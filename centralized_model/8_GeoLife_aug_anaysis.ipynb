{
 "cells": [
  {
   "cell_type": "markdown",
   "metadata": {},
   "source": [
    "# Comparison GeoLife vs GeoLife+\n",
    "\n",
    "We analyze our augmented dataset and compare it to the original geolife slice we used"
   ]
  },
  {
   "cell_type": "code",
   "execution_count": null,
   "metadata": {},
   "outputs": [],
   "source": [
    "import yaml\n",
    "import pandas as pd\n",
    "import skmob\n",
    "import matplotlib.pyplot as plt\n",
    "import seaborn as sns\n",
    "import numpy as np\n",
    "import seaborn as sns\n",
    "from skmob.measures.individual import radius_of_gyration\n",
    "from mpl_toolkits.axes_grid.inset_locator import inset_axes\n",
    "from pylab import *\n",
    "from skmob.measures.individual import number_of_visits\n",
    "\n",
    "with open(\"conf.yaml\") as f:\n",
    "    conf = yaml.load(f, Loader = yaml.FullLoader)\n",
    "\n",
    "out_path = conf[\"out_path\"]\n",
    "#data_path = conf[\"data_path\"]\n",
    "geolife_data_path = conf[\"geolife_data_path\"]\n",
    "\n",
    "beijing_lat_min = conf[\"beijing_lat_min\"]\n",
    "beijing_lat_max = conf[\"beijing_lat_max\"]\n",
    "beijing_lon_min = conf[\"beijing_lon_min\"]\n",
    "beijing_lon_max = conf[\"beijing_lon_max\"]\n",
    "geo_life_analysis_path = conf[\"geo_life_analysis_path\"]\n",
    "\n",
    "start_time = conf[\"start_time\"]\n",
    "end_time = conf[\"end_time\"]"
   ]
  },
  {
   "cell_type": "code",
   "execution_count": null,
   "metadata": {},
   "outputs": [],
   "source": [
    "# load the data sets\n",
    "geo_life = pd.read_csv(geolife_data_path+\"geo_life_full.csv\")\n",
    "geo_life_plus = pd.read_csv(out_path+\"geolife_full_augmented.csv\")\n",
    "\n",
    "#restricting to beijing area\n",
    "geo_life = geo_life[(geo_life['lat'].between(beijing_lat_min, beijing_lat_max )) & (geo_life['lon'].between(beijing_lon_min, beijing_lon_max))]\n",
    "geo_life_plus = geo_life_plus[(geo_life_plus['lat'].between(beijing_lat_min, beijing_lat_max )) & (geo_life_plus['lon'].between(beijing_lon_min, beijing_lon_max))]\n",
    "\n",
    "#restricting to period of interest\n",
    "geo_life = geo_life[(geo_life.date_time > start_time) & (geo_life.date_time < end_time)]\n",
    "geo_life_plus = geo_life_plus[(geo_life_plus.date_time > start_time) & (geo_life_plus.date_time < end_time)]\n",
    "\n",
    "\n",
    "#Trajectories\n",
    "t_geoLife = skmob.TrajDataFrame(geo_life, latitude='lat', longitude='lon', datetime='data_time', user_id='uid')\n",
    "t_geoLife = t_geoLife.rename(columns={\"date_time\": \"datetime\"})\n",
    "\n",
    "t_geoLife_plus = skmob.TrajDataFrame(geo_life_plus, latitude='lat', longitude='lon', datetime='data_time', user_id='uid')\n",
    "t_geoLife_plus = t_geoLife_plus.rename(columns={\"date_time\": \"datetime\"})\n"
   ]
  },
  {
   "cell_type": "code",
   "execution_count": null,
   "metadata": {},
   "outputs": [],
   "source": [
    "len(geo_life_plus)"
   ]
  },
  {
   "cell_type": "markdown",
   "metadata": {},
   "source": [
    "# Radius of gyration and number of visits"
   ]
  },
  {
   "cell_type": "code",
   "execution_count": null,
   "metadata": {},
   "outputs": [],
   "source": [
    "rg_geolife = radius_of_gyration(t_geoLife)\n",
    "nvisits_geolife = number_of_visits(t_geoLife)\n",
    "\n",
    "rg_geolife_plus = radius_of_gyration(t_geoLife_plus)\n",
    "nvisits_geolife_plus = number_of_visits(t_geoLife_plus)\n",
    "\n"
   ]
  },
  {
   "cell_type": "code",
   "execution_count": null,
   "metadata": {},
   "outputs": [],
   "source": [
    "rg_geolife_plus"
   ]
  },
  {
   "cell_type": "code",
   "execution_count": null,
   "metadata": {},
   "outputs": [],
   "source": [
    "#Statistiche radius e number of visits per paper\n",
    "print(\"radius GeoLife\",rg_geolife[\"radius_of_gyration\"].describe())\n",
    "print(\"radius GeoLife+\",rg_geolife_plus[\"radius_of_gyration\"].describe())\n",
    "print(\"number visits GeoLife\",nvisits_geolife[\"number_of_visits\"].describe())\n",
    "print(\"number visits GeoLife+\",nvisits_geolife_plus[\"number_of_visits\"].describe())"
   ]
  },
  {
   "cell_type": "code",
   "execution_count": null,
   "metadata": {},
   "outputs": [],
   "source": [
    "# Radius of gyration + pdf visits\n",
    "sns.set(style=\"ticks\",font_scale=1.4)\n",
    "\n",
    "fontsize = 10\n",
    "fig = plt.figure(constrained_layout=True,figsize=(10, 5))\n",
    "\n",
    "gs = GridSpec(2, 2, figure=fig)\n",
    "\n",
    "# radius\n",
    "ax1=fig.add_subplot(gs[0,0])\n",
    "#radius = radius_of_gyration(tdf)\n",
    "plt.grid(alpha=1)\n",
    "sns.histplot(rg_geolife.radius_of_gyration,bins=100,kde=True,ax=ax1, color=\"r\",stat=\"probability\")\n",
    "ax1.set_title(\"GeoLife\")\n",
    "ax1.set_ylabel(\"$r_g$\")\n",
    "ax1.set_xlabel(\"\")\n",
    "ax1.set_xlim([0,30])\n",
    "\n",
    "\n",
    "\n",
    "ax2=fig.add_subplot(gs[1,0])\n",
    "sns.histplot(nvisits_geolife.number_of_visits,ax=ax2,kde=True,color=\"green\",stat=\"probability\")\n",
    "plt.grid(alpha=1) \n",
    "ax2.set_ylabel(\"$n_v$\")\n",
    "ax2.set_xlabel(\"\")\n",
    "\n",
    "ax3=fig.add_subplot(gs[0,1])\n",
    "plt.grid(alpha=1)\n",
    "sns.histplot(rg_geolife_plus.radius_of_gyration,bins=100,kde=True,ax=ax3, color=\"r\",stat=\"probability\")\n",
    "ax3.set_title(\"GeoLife+\")\n",
    "ax3.set_ylabel(\"$r_g$\")\n",
    "ax3.set_xlabel(\"\")\n",
    "ax3.set_xlim([0,30])\n",
    "\n",
    "ax4=fig.add_subplot(gs[1,1])\n",
    "sns.histplot(nvisits_geolife_plus.number_of_visits,ax=ax4,kde=True,color=\"green\",stat=\"probability\")\n",
    "plt.grid(alpha=1) \n",
    "ax4.set_ylabel(\"$n_v$\")\n",
    "ax4.set_xlabel(\"\")\n",
    "\n",
    "\n",
    "savefig(geo_life_analysis_path+\"geo_life_mobility_metrics.png\", dpi  = 300)\n",
    "\n"
   ]
  },
  {
   "cell_type": "markdown",
   "metadata": {},
   "source": [
    "# Numbers for table of the paper"
   ]
  },
  {
   "cell_type": "code",
   "execution_count": null,
   "metadata": {},
   "outputs": [],
   "source": [
    "print(\"total traces:\", len(geo_life))\n",
    "print(\"total users:\", len(geo_life[\"uid\"].unique()))\n",
    "print(\"total traj:\", len(geo_life[\"tid\"].unique()))\n",
    "print(\"average traj user\",geo_life.groupby(\"uid\").tid.nunique().mean())\n",
    "print(rg_geolife.describe())\n",
    "print(nvisits_geolife.describe())\n",
    "\n",
    "\n",
    "print(\"total traces:\", len(geo_life_plus))\n",
    "print(\"total users:\", len(geo_life_plus[\"uid\"].unique()))\n",
    "print(\"total traj:\", len(geo_life_plus[\"tid\"].unique()))\n",
    "print(\"average traj user\",geo_life_plus.groupby(\"uid\").tid.nunique().mean())\n",
    "print(rg_geolife_plus.describe())\n",
    "print(nvisits_geolife_plus.describe())\n"
   ]
  },
  {
   "cell_type": "markdown",
   "metadata": {},
   "source": [
    "We start by defining some helper functions and importing some modules."
   ]
  },
  {
   "cell_type": "code",
   "execution_count": null,
   "metadata": {},
   "outputs": [],
   "source": [
    "\n",
    "#helper functions to plot and save figures with pyplot\n",
    "def plot_df(x, y, name, title=\"\", xlabel='Date', ylabel='Value', dpi=100):\n",
    "    plt.figure(figsize=(16,5), dpi=dpi)\n",
    "    plt.plot(x, y, color='tab:blue', marker=\"o\")\n",
    "    plt.gca().set(title=title, xlabel=xlabel, ylabel=ylabel)\n",
    "    plt.grid()\n",
    "    plt.savefig(out_path + name)\n",
    "    plt.show()\n",
    "\n",
    "def plot_df_comparison(x1, y1, x2, y2, name, title, legend, xlabel=\"date\", ylabel=\"Value\", dpi = 100):\n",
    "    plt.figure(figsize=(16,5), dpi=dpi)\n",
    "    plt.plot(x1, y1, color='tab:blue', marker=\"o\")\n",
    "    plt.plot(x2, y2, color='tab:red', marker=\"x\")\n",
    "    plt.legend(legend)\n",
    "    plt.gca().set(title=title, xlabel=xlabel, ylabel=ylabel)\n",
    "    plt.grid()\n",
    "    plt.savefig(out_path + name)\n",
    "    plt.show\n",
    "    \n",
    "def plot_bar_comparison(users_orig, users_aug, trajs_orig, trajs_aug):\n",
    "        \n",
    "    n_groups = 2    \n",
    "    values_original = (users_orig, trajs_orig)\n",
    "    values_augmented = (users_aug, trajs_aug)\n",
    "    \n",
    "    # create plot\n",
    "    fig, ax = plt.subplots()\n",
    "    index = np.arange(n_groups)\n",
    "    bar_width = 0.35\n",
    "    opacity = 0.8\n",
    "    \n",
    "    rects1 = plt.bar(index, values_original, bar_width,\n",
    "    alpha=opacity,\n",
    "    color='tab:blue',\n",
    "    label='Original')\n",
    "\n",
    "    rects2 = plt.bar(index + bar_width, values_augmented, bar_width,\n",
    "    alpha=opacity,\n",
    "    color='tab:red',\n",
    "    label='Augmented')\n",
    "    \n",
    "    plt.xlabel('Attribute')\n",
    "    plt.ylabel('Quantity')\n",
    "    plt.yscale(\"log\")\n",
    "    plt.title('Unique users and trajectories comparison')\n",
    "    plt.xticks(index + bar_width, (\"Users\", \"Trajectories\"))\n",
    "    plt.legend()\n",
    "\n",
    "    #plt.tight_layout()\n",
    "    plt.savefig(out_path + \"bar_comparison_orig_vs_aug.png\")\n",
    "    plt.show()\n"
   ]
  },
  {
   "cell_type": "markdown",
   "metadata": {},
   "source": [
    "We retrieve our datasets from disk"
   ]
  },
  {
   "cell_type": "code",
   "execution_count": null,
   "metadata": {},
   "outputs": [],
   "source": [
    "cols = [\"date_time\", \"lat\", \"lon\", \"tid\", \"uid\"]\n",
    "cols_aug = [\"lat\", \"lon\", \"uid\", \"tid\",\"date_time\"]\n",
    "\n",
    "#restricting to june - august 2008\n",
    "start_time = \"2008-06-01 00:00:00\"\n",
    "end_time = \"2008-08-31 23:59:00\"\n",
    "\n",
    "df = pd.read_csv(data_path + \"complete_with_tids.csv\", \\\n",
    "                 usecols = cols, parse_dates = True, infer_datetime_format = True)\n",
    "original = (df[(df.date_time > start_time) & (df.date_time < end_time)]).copy()\n",
    "augmented = pd.read_csv(data_path + \"augmented_dataset.csv\", usecols=cols_aug, parse_dates = True)"
   ]
  },
  {
   "cell_type": "code",
   "execution_count": null,
   "metadata": {},
   "outputs": [],
   "source": [
    "print(augmented)\n",
    "print(augmented.info())\n",
    "print(augmented.uid.nunique())\n",
    "print(original.uid.nunique())\n",
    "print(original.tid.max())\n",
    "print(augmented.tid.max())"
   ]
  },
  {
   "cell_type": "code",
   "execution_count": null,
   "metadata": {},
   "outputs": [],
   "source": [
    "augmented[\"date_time\"] = pd.to_datetime(augmented[\"date_time\"])\n",
    "original[\"date_time\"] = pd.to_datetime(original[\"date_time\"])\n",
    "\n",
    "print(augmented.info())\n",
    "print(original.info())"
   ]
  },
  {
   "cell_type": "markdown",
   "metadata": {},
   "source": [
    "# Useful stats\n",
    "We plot some useful stats on our augmented dataset"
   ]
  },
  {
   "cell_type": "code",
   "execution_count": null,
   "metadata": {},
   "outputs": [],
   "source": [
    "aug_uid = augmented['uid'].nunique()\n",
    "orig_uid = original['uid'].nunique()\n",
    "\n",
    "print(str(aug_uid) + \" unique users for june 2008 (augmented dataset)\")\n",
    "print(str(orig_uid) + \" unique users for june 2008 (original dataset)\")\n",
    "\n",
    "aug_tid = augmented['tid'].nunique()\n",
    "orig_tid = original['tid'].nunique()\n",
    "\n",
    "print(str(aug_tid) + \" unique tids for june 2008 (augmented dataset)\")\n",
    "print(str(orig_tid) + \" unique tids for june 2008 (original dataset)\")\n",
    "\n",
    "avg_pts = len(augmented)/aug_uid\n",
    "print(\"average points per user in the augmented dataset: {:f}, on a total of {:d} points\".format(avg_pts, len(augmented)))"
   ]
  },
  {
   "cell_type": "code",
   "execution_count": null,
   "metadata": {},
   "outputs": [],
   "source": [
    "augmented.set_index('date_time', inplace=True)\n",
    "original.set_index('date_time', inplace=True)"
   ]
  },
  {
   "cell_type": "markdown",
   "metadata": {},
   "source": [
    "# Bar comparison\n",
    "We plot a bar comparison using a logarithmic scale to show how we augmented our dataset."
   ]
  },
  {
   "cell_type": "code",
   "execution_count": null,
   "metadata": {},
   "outputs": [],
   "source": [
    "#bar comparison for number of users and trajectories\n",
    "plot_bar_comparison(orig_uid, aug_uid, orig_tid, aug_tid)"
   ]
  },
  {
   "cell_type": "code",
   "execution_count": null,
   "metadata": {},
   "outputs": [],
   "source": [
    "#daily - original\n",
    "\n",
    "original_daily = original.groupby(pd.Grouper(freq='D')).size()\n",
    "plot_df(x=original_daily.index, y=original_daily, name=\"original_daily_linear.png\",\\\n",
    "       title=\"Number of gps points per day in our period (original dataset)\" )"
   ]
  },
  {
   "cell_type": "code",
   "execution_count": null,
   "metadata": {},
   "outputs": [],
   "source": [
    "#daily - augmented\n",
    "\n",
    "augmented_daily = augmented.groupby(pd.Grouper(freq='D')).size()\n",
    "plot_df(x=augmented_daily.index, y=augmented_daily, name=\"augmented_daily_linear.png\",\\\n",
    "       title=\"Number of gps points per day in our period (augmented dataset)\" )"
   ]
  },
  {
   "cell_type": "markdown",
   "metadata": {},
   "source": [
    "# Linear graphs\n",
    "We plot a linear graph for both daily and weekly aggregations"
   ]
  },
  {
   "cell_type": "code",
   "execution_count": null,
   "metadata": {},
   "outputs": [],
   "source": [
    "#daily - comparison\n",
    "\n",
    "plot_df_comparison(x1 = original_daily.index, y1 = original_daily,\\\n",
    "               x2 = augmented_daily.index, y2 = augmented_daily, name = \"augmented_vs_original_daily.png\",\\\n",
    "                  title=\"Dailiy comparison between the original and augmented datasets\", legend = [\"Original\", \"Augmented\"])"
   ]
  },
  {
   "cell_type": "code",
   "execution_count": null,
   "metadata": {},
   "outputs": [],
   "source": [
    "#weekly - original\n",
    "original_weekly = original.groupby(pd.Grouper(freq='W')).size()\n",
    "plot_df(x=original_weekly.index, y=original_weekly, name=\"original_weekly_linear.png\",\\\n",
    "       title=\"Number of gps points per week in our period (original dataset)\" )"
   ]
  },
  {
   "cell_type": "code",
   "execution_count": null,
   "metadata": {},
   "outputs": [],
   "source": [
    "#weekly - augmented\n",
    "augmented_weekly = augmented.groupby(pd.Grouper(freq='W')).size()\n",
    "plot_df(x=augmented_weekly.index, y=augmented_weekly, name=\"augmented_weekly_linear.png\",\\\n",
    "       title=\"Number of gps points per week in our period (augmented dataset)\" )"
   ]
  },
  {
   "cell_type": "code",
   "execution_count": null,
   "metadata": {},
   "outputs": [],
   "source": [
    "#weekly - comparison\n",
    "\n",
    "plot_df_comparison(x1 = original_weekly.index, y1 = original_weekly,\\\n",
    "               x2 = augmented_weekly.index, y2 = augmented_weekly, name = \"augmented_vs_original_weekly.png\",\\\n",
    "                  title=\"Weekly comparison between the original and augmented dataset\", legend = [\"Original\", \"Augmented\"])"
   ]
  },
  {
   "cell_type": "markdown",
   "metadata": {},
   "source": [
    "##### We load the augmented dataset again, start here if you just want the graphs below and wanna spare some Ram"
   ]
  },
  {
   "cell_type": "code",
   "execution_count": null,
   "metadata": {},
   "outputs": [],
   "source": [
    "cols_aug = [\"lat\", \"lon\", \"uid\", \"tid\",\"date_time\"]\n",
    "\n",
    "augmented = pd.read_csv(data_path + \"augmented_dataset.csv\", usecols=cols_aug, parse_dates = True)"
   ]
  },
  {
   "cell_type": "markdown",
   "metadata": {},
   "source": [
    "### Gps points per week\n",
    "a little bit strange since June 1 2008 was a Sunday and ISO weeks start on monday"
   ]
  },
  {
   "cell_type": "code",
   "execution_count": null,
   "metadata": {},
   "outputs": [],
   "source": [
    "week = augmented\n",
    "week[\"week\"] = week.index.week\n",
    "week[\"day\"] = week.index.weekday\n",
    "week = week.groupby([\"day\", \"week\"]).size()\n",
    "\n",
    "sns.set(style = \"ticks\", font_scale = 1.45)\n",
    "fig = plt.figure(figsize = (15, 8))\n",
    "week = week.T\n",
    "week = week.unstack(level=-1)\n",
    "#week = week.pivot(\"day\", \"week\")\n",
    "\n",
    "#print(week)\n",
    "\n",
    "plt.title(\"GPS points per week in our augmented dataset\", fontsize = 14)\n",
    "img = sns.heatmap(week, robust = True, cmap=\"Reds\",linewidths =0.3,square = False, cbar= True, cbar_kws={\"orientation\": \"horizontal\"})\n",
    "plt.savefig(out_path + \"gps_points_per_week_augmented.jpg\")"
   ]
  },
  {
   "cell_type": "markdown",
   "metadata": {},
   "source": [
    "### Visits per time unit\n",
    "(on a weekly basis)"
   ]
  },
  {
   "cell_type": "code",
   "execution_count": null,
   "metadata": {},
   "outputs": [],
   "source": [
    "import skmob\n",
    "import datetime\n",
    "from skmob.measures.collective import visits_per_time_unit\n",
    "\n",
    "#print(augmented.reset_index())\n",
    "\n",
    "tdf = skmob.TrajDataFrame(augmented.reset_index(), longitude = \"lon\", datetime = \"date_time\").sort_values(by='datetime')\n",
    "vtu_df = visits_per_time_unit(tdf, time_unit = \"W\")\n",
    "print(vtu_df)"
   ]
  },
  {
   "cell_type": "markdown",
   "metadata": {},
   "source": [
    "We need to get the number of users per week in order to plot a meaningful heatmap"
   ]
  },
  {
   "cell_type": "code",
   "execution_count": null,
   "metadata": {},
   "outputs": [],
   "source": [
    "users = augmented\n",
    "users[\"week\"] = users.index.week\n",
    "users[\"day\"] = users.index.weekday\n",
    "users = users.groupby([\"day\", \"week\"])[\"uid\"].nunique()\n",
    "\n",
    "users = users.T\n",
    "users = users.unstack(level=-1)\n",
    "\n",
    "print(users)"
   ]
  },
  {
   "cell_type": "markdown",
   "metadata": {},
   "source": [
    "Now we plot the number of visits per week along with a heatmap of active users"
   ]
  },
  {
   "cell_type": "code",
   "execution_count": null,
   "metadata": {},
   "outputs": [],
   "source": [
    "import matplotlib.gridspec as gridspec\n",
    "sns.set(style=\"whitegrid\",font_scale=1.4)\n",
    "fontsize = 10\n",
    "\n",
    "fig = plt.figure(constrained_layout=False,figsize=(13, 5))\n",
    "gs = gridspec.GridSpec(2, 4, figure=fig)\n",
    "\n",
    "ax1=fig.add_subplot(gs[0, 0:4])\n",
    "ax1.plot(vtu_df.n_visits, marker='o', color=\"r\")\n",
    "plt.yticks(size=fontsize, rotation=30)\n",
    "ax1.set_xticks([])\n",
    "ax1.set_ylabel(\"number of visits\")\n",
    "plt.grid(alpha=0.2,color=\"black\") \n",
    "ax2=fig.add_subplot(gs[1, 0:4])\n",
    "\n",
    "\n",
    "sns.heatmap(users, robust = True, cmap=\"Reds\",linewidths =0.3,square = False, cbar= False, cbar_kws={\"orientation\": \"horizontal\"})\n",
    "\n",
    "ax2.set_yticklabels([\"Mon\",\"Tue\",\"Wed\",\"Thu\",\"Fry\",\"Sat\",\"Sun\"])\n",
    "plt.yticks(size=fontsize, rotation=30)\n",
    "\n",
    "ax2.set_xlabel('weeks', fontsize=fontsize)\n",
    "ax2.set_ylabel(\"active users\")\n",
    "plt.savefig(out_path + \"visits_week_active_users.jpg\")\n",
    "#savefig(\"../output/Visits_week.png\", dpi  = 300)"
   ]
  },
  {
   "cell_type": "markdown",
   "metadata": {},
   "source": [
    "### Individual radius of gyration"
   ]
  },
  {
   "cell_type": "code",
   "execution_count": null,
   "metadata": {},
   "outputs": [],
   "source": [
    "from skmob.measures.individual import radius_of_gyration\n",
    "\n",
    "tdf = skmob.TrajDataFrame(augmented.reset_index(), longitude = \"lon\", user_id = \"uid\", datetime = \"date_time\")\n",
    "rg_df = radius_of_gyration(tdf)\n",
    "\n",
    "print(rg_df.head())"
   ]
  },
  {
   "cell_type": "markdown",
   "metadata": {},
   "source": [
    "### Individual number of visits"
   ]
  },
  {
   "cell_type": "code",
   "execution_count": null,
   "metadata": {},
   "outputs": [],
   "source": [
    "from skmob.measures.individual import number_of_visits\n",
    "\n",
    "tdf = skmob.TrajDataFrame(augmented.reset_index(), longitude = \"lon\", user_id = \"uid\", datetime = \"date_time\")\n",
    "num_v_df = number_of_visits(tdf)\n",
    "\n",
    "print(num_v_df.head())"
   ]
  },
  {
   "cell_type": "markdown",
   "metadata": {},
   "source": [
    "#### Plotting together radius of gyration and number of visits PDFs"
   ]
  },
  {
   "cell_type": "code",
   "execution_count": null,
   "metadata": {},
   "outputs": [],
   "source": [
    "# Radius of gyration + pdf visits\n",
    "from skmob.measures.collective import visits_per_location\n",
    "from skmob.measures.individual import radius_of_gyration\n",
    "from mpl_toolkits.axes_grid.inset_locator import inset_axes\n",
    "import matplotlib.gridspec as gridspec\n",
    "\n",
    "\n",
    "sns.set(style=\"ticks\",font_scale=1.2)\n",
    "\n",
    "fontsize = 10\n",
    "fig = plt.figure(constrained_layout=False,figsize=(10, 5))\n",
    "gs = gridspec.GridSpec(2, 1, figure=fig)\n",
    "\n",
    "ax1=fig.add_subplot(gs[0,0:])\n",
    "plt.grid(alpha=0.5) \n",
    "sns.distplot(rg_df[\"radius_of_gyration\"],bins=50,kde=True,ax=ax1,norm_hist=True)\n",
    "plt.yticks(rotation=30)\n",
    "#axins2 = inset_axes(ax1, width=\"30%\", height=\"40%\", loc=1, borderpad = 1)\n",
    "#sns.distplot(rg_df[\"radius_of_gyration\"],bins=50,kde=True,ax=axins2,norm_hist=True)\n",
    "#axins2.set_xlim(15,25)\n",
    "ax1.set_ylabel(\"PDF $r_g$\")\n",
    "#axins2.set_xlabel(\"\")\n",
    "\n",
    "# PDF visits per location\n",
    "ax2=fig.add_subplot(gs[1,0:])\n",
    "#plt.hist(visit_loc.n_visits, cumulative=True)\n",
    "sns.distplot(num_v_df.number_of_visits,ax=ax2,kde=False,norm_hist=True)\n",
    "plt.grid(alpha=0.5) \n",
    "ax2.set_ylabel(\"PDF n. of visits\")\n",
    "plt.loglog()\n",
    "ax2.set_xlabel(\"\")\n",
    "\n",
    "plt.savefig(out_path + \"Radius_PDF_visits.png\", dpi  = 300)\n"
   ]
  },
  {
   "cell_type": "markdown",
   "metadata": {},
   "source": [
    "### Frequency and recency"
   ]
  },
  {
   "cell_type": "markdown",
   "metadata": {},
   "source": [
    "- #### Frequency"
   ]
  },
  {
   "cell_type": "code",
   "execution_count": null,
   "metadata": {},
   "outputs": [],
   "source": [
    "from skmob.measures.individual import frequency_rank\n",
    "\n",
    "tdf = skmob.TrajDataFrame(augmented.reset_index(), longitude = \"lon\", user_id = \"uid\", datetime = \"date_time\")\n",
    "fr_df = frequency_rank(tdf)\n",
    "\n",
    "print(fr_df.info())"
   ]
  },
  {
   "cell_type": "markdown",
   "metadata": {},
   "source": [
    "- #### Recency"
   ]
  },
  {
   "cell_type": "code",
   "execution_count": null,
   "metadata": {},
   "outputs": [],
   "source": [
    "from skmob.measures.individual import recency_rank\n",
    "\n",
    "tdf = skmob.TrajDataFrame(augmented.reset_index(), longitude = \"lon\", user_id = \"uid\", datetime = \"date_time\")\n",
    "rr_df = recency_rank(tdf)\n",
    "\n",
    "print(rr_df.info())"
   ]
  },
  {
   "cell_type": "markdown",
   "metadata": {},
   "source": [
    "#### Frequency and Recency joint plot"
   ]
  },
  {
   "cell_type": "code",
   "execution_count": null,
   "metadata": {},
   "outputs": [],
   "source": [
    "sns.set(style=\"ticks\",font_scale=1.2)\n",
    "\n",
    "n_rows = 1000000\n",
    "\n",
    "merged_df = pd.merge(fr_df, rr_df, on=['uid', 'lat', 'lng'])\n",
    "short_merged_df = merged_df[(merged_df.frequency_rank <= 5000) & (merged_df.recency_rank <= 5000)]\n",
    "\n",
    "sns.jointplot(short_merged_df.frequency_rank, short_merged_df.recency_rank, kind=\"kde\")\n",
    "\n",
    "plt.savefig(out_path + \"rec_vs_fre_augmented.png\", dpi  = 300,bbox_inches = 'tight')\n",
    "#savefig(\"../output/Rec_vs_Fre_kde.png\", dpi  = 300,bbox_inches = 'tight')"
   ]
  },
  {
   "cell_type": "markdown",
   "metadata": {},
   "source": [
    "#### Some more visualization\n",
    "We visualize some of the trajectories and plot a datashader heatmap of the augmented dataset"
   ]
  },
  {
   "cell_type": "code",
   "execution_count": null,
   "metadata": {},
   "outputs": [],
   "source": [
    "#print(trajs)\n",
    "\n",
    "tdf = skmob.TrajDataFrame(augmented[(augmented[\"uid\"] == 1004)].reset_index(), longitude = \"lon\", datetime = \"date_time\")\n",
    "print(tdf)\n",
    "\n",
    "\n",
    "tdf.plot_trajectory(zoom=12, weight=3, opacity=0.9, tiles='Stamen Toner')"
   ]
  },
  {
   "cell_type": "code",
   "execution_count": null,
   "metadata": {},
   "outputs": [],
   "source": [
    "## import datashader as ds\n",
    "from colorcet import fire\n",
    "from datashader import transfer_functions as tf\n",
    "import datashader as ds\n",
    "\n",
    "from datashader.utils import lnglat_to_meters as webm\n",
    "\n",
    "#df_\n",
    "#augmented_t = augmented[(augmented['lat'].between(39, 41.5)) & (augmented['lon'].between(115, 117.5))]\n",
    "df1 = augmented.copy(deep=True)\n",
    "\n",
    "\n",
    "df1.loc[:, 'x'], df1.loc[:, 'y'] = webm(augmented.lon,augmented.lat)\n",
    "\n",
    "#print(df1.head())\n",
    "#print(df1.info())\n",
    "\n",
    "\"\"\"plot_width = 1000\n",
    "plot_height = 1000\n",
    "\"\"\"\n",
    "agg = ds.Canvas().points(df1, 'x', 'y')\n",
    "img = tf.set_background(tf.shade(agg, cmap=fire),\"black\")\n",
    "ds.utils.export_image(img=img,filename= out_path + 'beijing_dshader_augmented', fmt=\".png\", background=\"black\")"
   ]
  },
  {
   "cell_type": "code",
   "execution_count": null,
   "metadata": {},
   "outputs": [],
   "source": [
    "import holoviews as hv\n",
    "from holoviews.element.tiles import EsriImagery\n",
    "from holoviews.operation.datashader import datashade\n",
    "hv.extension('bokeh')\n",
    "\n",
    "map_tiles  = EsriImagery().opts(alpha=0.5, width=800, height=800, bgcolor='black')\n",
    "points     = hv.Points(df1, ['x', 'y'])\n",
    "tracks = datashade(points, x_sampling=1, y_sampling=1, cmap=fire, width=600, height=600)\n",
    "\n",
    "\n",
    "view = map_tiles * tracks\n",
    "hv.save(view, out_path + \"beijing_holoview.png\", fmt=\"auto\")\n",
    "view"
   ]
  },
  {
   "cell_type": "code",
   "execution_count": null,
   "metadata": {},
   "outputs": [],
   "source": []
  }
 ],
 "metadata": {
  "kernelspec": {
   "display_name": "Python 3",
   "language": "python",
   "name": "python3"
  },
  "language_info": {
   "codemirror_mode": {
    "name": "ipython",
    "version": 3
   },
   "file_extension": ".py",
   "mimetype": "text/x-python",
   "name": "python",
   "nbconvert_exporter": "python",
   "pygments_lexer": "ipython3",
   "version": "3.7.3"
  }
 },
 "nbformat": 4,
 "nbformat_minor": 4
}
