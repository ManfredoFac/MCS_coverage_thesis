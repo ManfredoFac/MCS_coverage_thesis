{
 "cells": [
  {
   "cell_type": "markdown",
   "metadata": {},
   "source": [
    "# Locations Generation\n",
    "Locations used to compute the coverage are generated according to three scenarions: \n",
    "1. List of subways stations\n",
    "2. POI (museums and squres)\n",
    "3. Grid generation\n",
    "4. Mix obtained by: POI + random locations in the city center\n"
   ]
  },
  {
   "cell_type": "code",
   "execution_count": null,
   "metadata": {},
   "outputs": [],
   "source": [
    "import pandas as pd\n",
    "import yaml\n",
    "import osmnx as ox\n",
    "import shapely.geometry\n",
    "import pyproj\n",
    "import os\n",
    "import geopandas as gpd\n",
    "import numpy as np\n",
    "\n",
    "\n",
    "\n",
    "with open(\"./conf.yaml\") as f:\n",
    "    conf = yaml.load(f, Loader = yaml.FullLoader)\n",
    "\n",
    "out_path = conf[\"out_path\"]\n",
    "beijing_center_lat = conf[\"beijing_center_lat\"]\n",
    "beijing_center_lon = conf[\"beijing_center_lon\"]\n",
    "distance_from_center = conf[\"distance_from_center\"]\n",
    "sw_lon = conf[\"sw_lon\"]\n",
    "sw_lat = conf[\"sw_lat\"]\n",
    "ne_lon = conf[\"ne_lon\"]\n",
    "ne_lat = conf[\"ne_lat\"]\n",
    "gripd_stepsize = conf[\"gripd_stepsize\"]\n",
    "pathDFHigh = conf[\"pathDFHigh\"]\n",
    "pathBox = conf[\"pathBox\"]\n",
    "pathBox\n",
    "\n"
   ]
  },
  {
   "cell_type": "markdown",
   "metadata": {},
   "source": [
    "## 1. Beijing subway stations for traffic fluxes monitoring\n",
    "We get subway stations in a 50km range from Beijing's city center"
   ]
  },
  {
   "cell_type": "code",
   "execution_count": null,
   "metadata": {},
   "outputs": [],
   "source": [
    "tags = {\"station\":\"subway\"}\n",
    "\n",
    "gdf = ox.geometries.geometries_from_point((beijing_center_lat,beijing_center_lon), tags, dist = distance_from_center)\n",
    "#print(gdf.head())\n",
    "gdf_subway = gdf[(gdf.station == \"subway\") & (gdf.geometry.notna())]\n",
    "print(\"We have {:d} stations in our range\".format(len(gdf_subway)))\n",
    "#we build a dataframe with useful data only (coordinates)\n",
    "df = pd.DataFrame()\n",
    "df[\"id_location\"], df[\"lat\"], df[\"lon\"] = (gdf_subway.osmid.values, gdf_subway.geometry.centroid.y.values, gdf_subway.geometry.centroid.x.values)\n",
    "print(df.head())\n",
    "df.to_csv(out_path + \"beijing_subway_stations.csv\", index=False)"
   ]
  },
  {
   "cell_type": "markdown",
   "metadata": {},
   "source": [
    "## 2.POIs: Squares, monuments, shop, railways etc \n",
    "We extract different kinds of pois in order to model an urban poi-based data collection campaign. \n",
    "(We use the same 50km radius)"
   ]
  },
  {
   "cell_type": "code",
   "execution_count": null,
   "metadata": {},
   "outputs": [],
   "source": [
    "tags = {\"place\":\"square\", \"historic\":\"monument\", \"shop\":\"mall\", \"railway\":\"station\", \"amenity\":\"bus_station\"}\n",
    "\n",
    "gdf = ox.geometries.geometries_from_point((beijing_center_lat,beijing_center_lon), tags, dist = distance_from_center)\n",
    "#print(gdf.head())\n",
    "print(\"We have {:d} POIs in our range\".format(len(gdf)))\n",
    "#print(gdf)\n",
    "df = pd.DataFrame()\n",
    "df[\"id_location\"], df[\"lat\"], df[\"lon\"] = (gdf.osmid.values, gdf.geometry.centroid.y.values, gdf.geometry.centroid.x.values)\n",
    "print(df.head())\n",
    "df.to_csv(out_path+\"POIs.csv\", index = False)"
   ]
  },
  {
   "cell_type": "markdown",
   "metadata": {},
   "source": [
    "## 3. Grid generation\n",
    "Grid of locations of 5Km distance, within a bounding box"
   ]
  },
  {
   "cell_type": "code",
   "execution_count": null,
   "metadata": {},
   "outputs": [],
   "source": [
    "# Set up projections\n",
    "p_ll = pyproj.Proj(init='epsg:4214')\n",
    "p_mt = pyproj.Proj(init='epsg:3857') # metric; same as EPSG:900913\n",
    "\n",
    "# Create corners of rectangle to be transformed to a grid\n",
    "sw = shapely.geometry.Point(sw_lon, sw_lat)\n",
    "ne = shapely.geometry.Point(ne_lon, ne_lat)\n",
    "# This is a wide region in the beijing area\n",
    "\n",
    "# Project corners to target projection\n",
    "transformed_sw = pyproj.transform(p_ll, p_mt, sw.x, sw.y) # Transform SW point to 3857\n",
    "transformed_ne = pyproj.transform(p_ll, p_mt, ne.x, ne.y) # .. same for NE\n",
    "\n",
    "# Iterate over 2D area\n",
    "gridpoints = []\n",
    "x = transformed_sw[0]\n",
    "while x < transformed_ne[0]:\n",
    "    y = transformed_sw[1]\n",
    "    while y < transformed_ne[1]:\n",
    "        p = shapely.geometry.Point(pyproj.transform(p_mt, p_ll, x, y))\n",
    "        gridpoints.append(p)\n",
    "        y += gripd_stepsize\n",
    "    x += gripd_stepsize\n",
    "    #print(\"generated {:d} points\".format(len(gridpoints)))\n",
    "\n",
    "grid = [(p.x, p.y) for p in gridpoints]\n",
    "cols = (\"lon\", \"lat\")\n",
    "grid_df = pd.DataFrame(grid, columns=cols)\n",
    "\n",
    "grid_df.to_csv(out_path+\"5000_m_grid1.csv\")\n",
    "print(\"Finished generating a regular grid with {:d} locations\".format(len(grid_df)))"
   ]
  },
  {
   "cell_type": "markdown",
   "metadata": {},
   "source": [
    "## 4. Mix\n",
    "Mix obtained by POI + random"
   ]
  },
  {
   "cell_type": "code",
   "execution_count": null,
   "metadata": {},
   "outputs": [],
   "source": [
    "# Fetch points from osm\n",
    "tags = {\"place\":\"square\", \"historic\":\"monument\", \"shop\":\"mall\", \"railway\":\"station\", \"amenity\":\"bus_station\"}\n",
    "\n",
    "gdf = ox.geometries.geometries_from_point((beijing_center_lat,beijing_center_lon), tags, dist = distance_from_center)\n",
    "print(\"We have {:d} POIs in our range\".format(len(gdf)))\n",
    "#print(gdf)\n",
    "df = pd.DataFrame()\n",
    "df[\"id_location\"], df[\"lat\"], df[\"lon\"] = (gdf.osmid.values, gdf.geometry.centroid.y.values, gdf.geometry.centroid.x.values)\n",
    "\n",
    "\n",
    "#to fix better\n",
    "a = \"/home/michele/Documenti/Progetti/Software/Crowdsensing/uav_station/output/stations/box.shp\"\n",
    "# Generate random points only within a box \n",
    "Box = gpd.GeoDataFrame(gpd.read_file(a),crs=\"EPSG:4326\")\n",
    "Box=Box.set_index('index')\n",
    "\n",
    "boxHigh=Box.at[\"boxHigh\",'geometry']\n",
    "pdfHigh = gpd.GeoDataFrame({'geometry':[boxHigh]},crs=\"EPSG:4326\")\n",
    "\n",
    "boundsBox = boxHigh.bounds\n",
    "minlat=boundsBox[1]\n",
    "maxlat=boundsBox[3]\n",
    "minlon=boundsBox[0]\n",
    "maxlon=boundsBox[2]\n",
    "\n",
    "#old value 2000\n",
    "augemented_locations = 1000\n",
    "xpoints = np.random.uniform(0,0.1,augemented_locations) + minlon\n",
    "ypoints = np.random.uniform(0,0.1,augemented_locations)+minlat\n",
    "id_locations = np.random.uniform(1,100000,augemented_locations)\n",
    "\n",
    "extra_ponts = pd.DataFrame()\n",
    "extra_ponts[\"id_location\"] = id_locations\n",
    "extra_ponts[\"lat\"] = ypoints\n",
    "extra_ponts[\"lon\"] = xpoints\n",
    "\n",
    "dfs = [df,extra_ponts]\n",
    "df_mix = pd.concat(dfs)\n",
    "df_mix.to_csv(out_path+\"MIX.csv\", index = False)\n",
    "\n"
   ]
  },
  {
   "cell_type": "markdown",
   "metadata": {},
   "source": [
    "# Test: Visualizing locations and trajectories\n",
    "- Load the locations (grid or subways or pois)\n",
    "- Load the trajectories\n",
    "- Visualize locations and some trajectories\n"
   ]
  },
  {
   "cell_type": "code",
   "execution_count": null,
   "metadata": {},
   "outputs": [],
   "source": [
    "locations = pd.read_csv(os.path.join(out_path, \"beijing_subway_stations.csv\"))\n",
    "print(\"There are a total of {:d} locations in our dataset\".format(len(locations)))\n",
    "locations[\"location\"] = locations.index.values\n",
    "print(locations.head())"
   ]
  },
  {
   "cell_type": "code",
   "execution_count": null,
   "metadata": {},
   "outputs": [],
   "source": [
    "cols = [\"lat\", \"lon\", \"uid\", \"tid\",\"date_time\"]\n",
    "dataset = pd.read_csv(out_path + \"geolife_full_augmented.csv\", usecols=cols, parse_dates = True)\n",
    "print(\"Successfully loaded trajectory dataset\")\n",
    "print(dataset.head())"
   ]
  },
  {
   "cell_type": "code",
   "execution_count": null,
   "metadata": {},
   "outputs": [],
   "source": [
    "import skmob\n",
    "import folium\n",
    "\n",
    "tdf = skmob.TrajDataFrame(dataset, latitude='lat', longitude=\"lon\", datetime='date_time', user_id='uit', trajectory_id=\"tid\")\n",
    "\n",
    "m = folium.Map(location=[39.9042, 116.4074], tiles=\"Stamen Toner\")\n",
    "\n",
    "for lat, lon, index in zip(locations.lat.values, locations.lon.values, locations.index.values):\n",
    "    #folium.Marker([lat, lon], popup=\"location\" + str(index), tooltip=str(index)).add_to(m)\n",
    "    folium.Circle(\n",
    "        location=[lat, lon],\n",
    "        radius=500,\n",
    "        popup='location {:d} radius'.format(index),\n",
    "        color='#3186cc',\n",
    "        fill=True,\n",
    "        fill_color='#3186cc'\n",
    "        ).add_to(m)\n",
    "\n",
    "#change this to plot more trajectories\n",
    "trajs_to_plot = 100\n",
    "for tid in tdf.tid.unique():\n",
    "    tdf[tdf[\"tid\"] == tid].plot_trajectory(m, weight=4, opacity=1, start_end_markers=False)\n",
    "    trajs_to_plot -= 1\n",
    "    if (trajs_to_plot == 0):\n",
    "        break\n",
    "\n",
    "m\n",
    "#m.save(outfile= out_path + \"locations_grid_trajectories.html\")"
   ]
  },
  {
   "cell_type": "code",
   "execution_count": null,
   "metadata": {},
   "outputs": [],
   "source": [
    "# Flows\n",
    "from skmob.tessellation import tilers\n",
    "tessellation = tilers.tiler.get(\"squared\", base_shape=\"Beijing, China\", meters=15000)\n",
    "fdf = tdf.to_flowdataframe(tessellation=tessellation, self_loops=True)"
   ]
  },
  {
   "cell_type": "code",
   "execution_count": null,
   "metadata": {},
   "outputs": [],
   "source": [
    "m = fdf.plot_flows(flow_color='red',flow_weight=10)\n",
    "fdf.plot_tessellation(popup_features=['tile_ID', 'population'],map_osm=m)\n",
    "m"
   ]
  },
  {
   "cell_type": "markdown",
   "metadata": {},
   "source": [
    "# Different strategies for location picking\n",
    "we investigate new strategies for choosing our locations.\n",
    "\n",
    "We begin with a random picking and then we get picks from an external csv."
   ]
  },
  {
   "cell_type": "markdown",
   "metadata": {},
   "source": [
    "## Random picking"
   ]
  },
  {
   "cell_type": "code",
   "execution_count": null,
   "metadata": {},
   "outputs": [],
   "source": [
    "import random as rand\n",
    "\n",
    "#picking 50 random points in our inner bounding box perimeter\n",
    "points = 50\n",
    "rd_pts = [(rand.uniform(39.8, 40.0), (rand.uniform(116.2, 116.6))) for i in range(points)]\n",
    "cols = (\"lat\", \"lon\")\n",
    "rd_locations = pd.DataFrame(rd_pts, columns=cols)"
   ]
  },
  {
   "cell_type": "code",
   "execution_count": null,
   "metadata": {},
   "outputs": [],
   "source": [
    "print(rd_locations.head())"
   ]
  },
  {
   "cell_type": "markdown",
   "metadata": {},
   "source": [
    "Now we visualize the random grid in a folium map"
   ]
  },
  {
   "cell_type": "code",
   "execution_count": null,
   "metadata": {},
   "outputs": [],
   "source": [
    "rd_m = folium.Map(location=[39.9042, 116.4074], tiles=\"Stamen Toner\")\n",
    "\n",
    "for lat, lon, index in zip(rd_locations.lat.values, rd_locations.lon.values, rd_locations.index.values):\n",
    "    #folium.Marker([lat, lon], popup=\"location\" + str(index), tooltip=str(index)).add_to(rd_m)\n",
    "    folium.Circle(\n",
    "        location=[lat, lon],\n",
    "        radius=1000,\n",
    "        popup='location {:d} radius'.format(index),\n",
    "        color='#3186cc',\n",
    "        fill=True,\n",
    "        fill_color='#3186cc'\n",
    "        ).add_to(rd_m)\n",
    "\n",
    "#change this to plot more trajectories\n",
    "trajs_to_plot = 20\n",
    "for tid in tdf.tid.unique():\n",
    "    tdf[tdf[\"tid\"] == tid].plot_trajectory(rd_m, weight=4, opacity=1, start_end_markers=False)\n",
    "    trajs_to_plot -= 1\n",
    "    if (trajs_to_plot == 0):\n",
    "        break\n",
    "\n",
    "rd_m"
   ]
  },
  {
   "cell_type": "markdown",
   "metadata": {},
   "source": [
    "## CSV loading\n",
    "we try loading a previously generated csv with POIs (such as subway stations, in this example) in order to use them as locations."
   ]
  },
  {
   "cell_type": "code",
   "execution_count": null,
   "metadata": {},
   "outputs": [],
   "source": [
    "df = pd.read_csv(data_path+\"beijing_subway_stations.csv\")\n",
    "df = df[(df['lat'].between(39.8, 40.0)) & (df['lon'].between(116.2, 116.6))]\n",
    "print(df.info())"
   ]
  },
  {
   "cell_type": "code",
   "execution_count": null,
   "metadata": {},
   "outputs": [],
   "source": [
    "csv_m = folium.Map(location=[39.9042, 116.4074], tiles=\"Stamen Toner\")\n",
    "\n",
    "for lat, lon, name in zip(df.lat, df.lon, df.name):\n",
    "    #folium.Marker((lat, lon), popup=name).add_to(csv_m)\n",
    "    folium.Circle(\n",
    "        location=[lat, lon],\n",
    "        radius=250,\n",
    "        #popup='{:s} station radius'.format(name),\n",
    "        color='#3186cc',\n",
    "        fill=True,\n",
    "        fill_color='#3186cc'\n",
    "        ).add_to(csv_m)\n",
    "\n",
    "#change this to plot more trajectories\n",
    "trajs_to_plot = 20\n",
    "for tid in tdf.tid.unique():\n",
    "    tdf[tdf[\"tid\"] == tid].plot_trajectory(csv_m, weight=4, opacity=1, start_end_markers=False)\n",
    "    trajs_to_plot -= 1\n",
    "    if (trajs_to_plot == 0):\n",
    "        break\n",
    "\n",
    "\n",
    "csv_m"
   ]
  },
  {
   "cell_type": "markdown",
   "metadata": {},
   "source": [
    "## Considerations on fixed locations\n",
    "Metro stations might be especially useful to get coverage from people going by foot, while other types of facilities might be exploited for different kinds of mobility profiles.\n",
    "Motorway Junctions could be good if we had to address a mainly car-based mobility profile, while bycicle lanes could be used for cyclists."
   ]
  },
  {
   "cell_type": "code",
   "execution_count": null,
   "metadata": {},
   "outputs": [],
   "source": []
  }
 ],
 "metadata": {
  "kernelspec": {
   "display_name": "Python 3 (ipykernel)",
   "language": "python",
   "name": "python3"
  },
  "language_info": {
   "codemirror_mode": {
    "name": "ipython",
    "version": 3
   },
   "file_extension": ".py",
   "mimetype": "text/x-python",
   "name": "python",
   "nbconvert_exporter": "python",
   "pygments_lexer": "ipython3",
   "version": "3.7.3"
  }
 },
 "nbformat": 4,
 "nbformat_minor": 4
}
