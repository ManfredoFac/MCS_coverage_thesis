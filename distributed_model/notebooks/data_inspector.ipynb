{
 "cells": [
  {
   "cell_type": "code",
   "execution_count": null,
   "id": "9f2432bf-9e95-418d-b4df-eb1f0c0b1e9b",
   "metadata": {},
   "outputs": [],
   "source": [
    "import pandas as pd\n",
    "import numpy as np\n",
    "import matplotlib.pyplot as plt"
   ]
  },
  {
   "cell_type": "code",
   "execution_count": null,
   "id": "1e065dd6-4233-427a-9473-1ef62ce348cc",
   "metadata": {},
   "outputs": [],
   "source": [
    "geo = pd.read_csv('geolife_full_augmented.csv')"
   ]
  },
  {
   "cell_type": "code",
   "execution_count": null,
   "id": "af9f54bb-49f2-4681-b2e0-5288bd7f3c9c",
   "metadata": {},
   "outputs": [],
   "source": [
    "geo_time_buckets = geo.groupby('date_time')['date_time'].count().reset_index(name=\"time_buckets\")"
   ]
  },
  {
   "cell_type": "code",
   "execution_count": null,
   "id": "b6f0411d-6209-499a-a734-bb7e7bf4e3dc",
   "metadata": {},
   "outputs": [],
   "source": [
    "geo_time_buckets[geo_time_buckets['time_buckets'] > 5]"
   ]
  },
  {
   "cell_type": "code",
   "execution_count": null,
   "id": "6e7ca7dd-dafc-40ff-a4df-666feb481602",
   "metadata": {},
   "outputs": [],
   "source": [
    "geo_time_buckets['date_time'] = pd.to_datetime(geo_time_buckets['date_time'], errors='coerce')"
   ]
  },
  {
   "cell_type": "code",
   "execution_count": null,
   "id": "c97b14e0-abfa-482f-b952-02177765805e",
   "metadata": {},
   "outputs": [],
   "source": [
    "geo_time_buckets['date_time'] += np.array(-geo_time_buckets['date_time'].dt.second % 60, dtype='<m8[s]')"
   ]
  },
  {
   "cell_type": "code",
   "execution_count": null,
   "id": "9a7f24d4-ad84-4376-8aa2-5907411acbc0",
   "metadata": {},
   "outputs": [],
   "source": [
    "geo_time_buckets[geo_time_buckets['time_buckets'] > 2]"
   ]
  },
  {
   "cell_type": "code",
   "execution_count": null,
   "id": "17b7572a-0307-4e20-b067-9b7c5aef09d0",
   "metadata": {},
   "outputs": [],
   "source": [
    "geo_time_buckets['date_time'].nunique()"
   ]
  },
  {
   "cell_type": "code",
   "execution_count": null,
   "id": "f34fb12a-862c-4237-9f0b-4b81bbc66a5c",
   "metadata": {},
   "outputs": [],
   "source": [
    "geo_time_buckets.sort_values(by=['date_time'])"
   ]
  },
  {
   "cell_type": "code",
   "execution_count": null,
   "id": "47c404c7-11b1-4a00-88d5-f7ed216e30e1",
   "metadata": {},
   "outputs": [],
   "source": [
    "geo_time_buckets['year'] = geo_time_buckets['date_time'].dt.year"
   ]
  },
  {
   "cell_type": "code",
   "execution_count": null,
   "id": "cc13503e-ded5-4ec2-818f-11734e08ae56",
   "metadata": {},
   "outputs": [],
   "source": [
    "geo_time_buckets['year'].value_counts().plot(kind='bar',\n",
    "                                   title='years')"
   ]
  },
  {
   "cell_type": "code",
   "execution_count": null,
   "id": "96ef74b3-c7d5-4ffe-91a9-d32538879d8a",
   "metadata": {},
   "outputs": [],
   "source": [
    "geo_time_buckets['date_time'] = geo_time_buckets['date_time'].dt.floor('s')"
   ]
  },
  {
   "cell_type": "code",
   "execution_count": null,
   "id": "7e343fe2-b7ec-4f23-9149-090ff1851e72",
   "metadata": {},
   "outputs": [],
   "source": [
    "geo_time_buckets[geo_time_buckets['date_time'].dt.year == 2009]"
   ]
  },
  {
   "cell_type": "code",
   "execution_count": null,
   "id": "4870f317-f204-4755-a543-91012a01c4bb",
   "metadata": {},
   "outputs": [],
   "source": [
    "geo['date_time'] = pd.to_datetime(geo['date_time'], errors='coerce')\n"
   ]
  },
  {
   "cell_type": "code",
   "execution_count": null,
   "id": "d6a1d8c5-1011-4a7e-9dc5-8f47a04f1097",
   "metadata": {},
   "outputs": [],
   "source": [
    "geo[geo['uid'] == 10]"
   ]
  },
  {
   "cell_type": "code",
   "execution_count": null,
   "id": "49b39aaa-0afe-4046-9d35-9b94ef3f9f01",
   "metadata": {},
   "outputs": [],
   "source": []
  },
  {
   "cell_type": "code",
   "execution_count": null,
   "id": "3724fdac-0e9d-44e9-a831-8d036c948c14",
   "metadata": {},
   "outputs": [],
   "source": [
    "geo['date_time'] = geo['date_time'].dt.floor('min')"
   ]
  },
  {
   "cell_type": "code",
   "execution_count": null,
   "id": "16fafc03-d7b3-4acc-819d-4f1e0e80ec72",
   "metadata": {},
   "outputs": [],
   "source": [
    "geo"
   ]
  },
  {
   "cell_type": "code",
   "execution_count": null,
   "id": "a3db29bf-e205-48fc-94d2-cde78daa166e",
   "metadata": {},
   "outputs": [],
   "source": [
    "geo[geo['date_time'].dt.year == 2007].nunique()"
   ]
  },
  {
   "cell_type": "code",
   "execution_count": null,
   "id": "d5feb971-3394-4cea-b40d-1cc4f7600e1b",
   "metadata": {},
   "outputs": [],
   "source": [
    "geo.groupby('date_time').all()"
   ]
  },
  {
   "cell_type": "code",
   "execution_count": null,
   "id": "c2cac65c-5e94-4cfb-9dea-871834c3aa91",
   "metadata": {},
   "outputs": [],
   "source": [
    "grouped = geo[geo['date_time'].dt.year == 2007].groupby('date_time')\n",
    "list = []\n",
    "geo[geo['date_time'].dt.year == 2007]['date_time'].unique()\n"
   ]
  },
  {
   "cell_type": "code",
   "execution_count": null,
   "id": "178a37d0-3182-45e8-b398-69fa1d507427",
   "metadata": {},
   "outputs": [],
   "source": [
    "for time in geo[geo['date_time'].dt.year == 2007]['date_time'].unique():\n",
    "    list.append(grouped.get_group(time).to_numpy())"
   ]
  },
  {
   "cell_type": "code",
   "execution_count": null,
   "id": "b340f643-be9e-4b42-bc33-b76ac82095d8",
   "metadata": {},
   "outputs": [],
   "source": [
    "geo.uid.unique()"
   ]
  },
  {
   "cell_type": "code",
   "execution_count": null,
   "id": "7ceaf90b-59b8-4c0b-afb0-fac399dc4079",
   "metadata": {},
   "outputs": [],
   "source": [
    "geo[geo['date_time'] == '2012-07-27 08:27:00']"
   ]
  },
  {
   "cell_type": "code",
   "execution_count": null,
   "id": "d77648f1-c307-4026-9f7d-af9f66e3975a",
   "metadata": {},
   "outputs": [],
   "source": [
    "grouped  = geo.groupby(['date_time', 'uid'])"
   ]
  },
  {
   "cell_type": "code",
   "execution_count": null,
   "id": "7bb3dffe-dee9-4d81-b8ff-868d3686b82e",
   "metadata": {},
   "outputs": [],
   "source": [
    "from geopy.distance import distance"
   ]
  },
  {
   "cell_type": "code",
   "execution_count": null,
   "id": "e430d80f-dfd8-4ef0-b8ae-148c17b93238",
   "metadata": {},
   "outputs": [],
   "source": [
    "grouped.get_group((\"2007-08-04 03:30:00\", 10)).mean().to_numpy()"
   ]
  },
  {
   "cell_type": "code",
   "execution_count": null,
   "id": "876a82fb-6016-4ce1-817b-8b24ec889396",
   "metadata": {},
   "outputs": [],
   "source": [
    "geo[geo['uid'] == 10]"
   ]
  },
  {
   "cell_type": "code",
   "execution_count": null,
   "id": "747e2fa7-36ca-45ef-8d15-d685e466bdab",
   "metadata": {},
   "outputs": [],
   "source": [
    "tmp = geo.groupby(['date_time', 'uid'], as_index=False).mean()\n",
    "tmp"
   ]
  },
  {
   "cell_type": "code",
   "execution_count": null,
   "id": "8042e541-30a1-4814-9c44-41773bf15b37",
   "metadata": {},
   "outputs": [],
   "source": [
    "tmp[tmp['date_time'] == '2007-04-12 10:21:00'].to_numpy()"
   ]
  },
  {
   "cell_type": "code",
   "execution_count": null,
   "id": "8f219fce-23cc-4377-989d-cb672380cbae",
   "metadata": {},
   "outputs": [],
   "source": [
    "geo[geo['date_time'].dt.year == 2010]['uid'].unique()"
   ]
  },
  {
   "cell_type": "code",
   "execution_count": null,
   "id": "f1f324a0-8d6f-4e53-9071-9648169adce7",
   "metadata": {},
   "outputs": [],
   "source": [
    "geo['date_time'].values"
   ]
  },
  {
   "cell_type": "code",
   "execution_count": null,
   "id": "f652fa96-e343-43b9-85bb-5d6e8ee32046",
   "metadata": {},
   "outputs": [],
   "source": [
    "pois = pd.read_csv('POIs.csv')"
   ]
  },
  {
   "cell_type": "code",
   "execution_count": null,
   "id": "71b7f4c9-e2bf-4e5d-8017-2f4761adae35",
   "metadata": {},
   "outputs": [],
   "source": [
    "pois_filtered = pois[pois['lat'] > 39.9]"
   ]
  },
  {
   "cell_type": "code",
   "execution_count": null,
   "id": "9ce80f33-f9bb-4222-85e5-e81095cb10b0",
   "metadata": {},
   "outputs": [],
   "source": [
    "pois_filtered = pois_filtered[pois_filtered['lat'] < 40]"
   ]
  },
  {
   "cell_type": "code",
   "execution_count": null,
   "id": "c8de277a-a383-4b1a-9d10-bb1c569caed0",
   "metadata": {},
   "outputs": [],
   "source": [
    "pois_filtered"
   ]
  },
  {
   "cell_type": "code",
   "execution_count": null,
   "id": "3649e7fa-8dff-47e7-9bdb-9897c667b88a",
   "metadata": {},
   "outputs": [],
   "source": [
    "geo_filtered = geo[geo['lat'] > 39.9]"
   ]
  },
  {
   "cell_type": "code",
   "execution_count": null,
   "id": "3023eb1b-a566-442c-bed7-f5d015119aa2",
   "metadata": {},
   "outputs": [],
   "source": [
    "geo_filtered = geo_filtered[geo_filtered['lat'] < 40]"
   ]
  },
  {
   "cell_type": "code",
   "execution_count": null,
   "id": "dd4f0f0b-fe18-4d38-9110-0e803700907f",
   "metadata": {},
   "outputs": [],
   "source": [
    "geo_filtered[geo_filtered.uid == 22]"
   ]
  },
  {
   "cell_type": "code",
   "execution_count": null,
   "id": "72cca47c-01a8-48bd-8ce0-e986c89ac31f",
   "metadata": {},
   "outputs": [],
   "source": [
    "lat_min = 39.9\n",
    "lat_max = 40.0\n",
    "lon_min = 116.3\n",
    "lon_max = 116.4\n",
    "\n",
    "pois_filtered = pois[pois['lat'] > lat_min]\n",
    "pois_filtered = pois_filtered[pois_filtered['lat'] < lat_max]\n",
    "pois_filtered = pois_filtered[pois_filtered['lon'] > lon_min]\n",
    "pois_filtered = pois_filtered[pois_filtered['lon'] < lon_max]\n",
    "\n",
    "geo_filtered = geo[geo['lat'] > lat_min]\n",
    "geo_filtered = geo_filtered[geo_filtered['lat'] < lat_max]\n",
    "geo_filtered = geo_filtered[geo_filtered['lon'] > lon_min]\n",
    "geo_filtered = geo_filtered[geo_filtered['lon'] < lon_max]\n",
    "geo_filtered = geo_filtered[geo_filtered['uid'] < 3000]\n",
    "geo_filtered = geo_filtered[geo_filtered['date_time'].dt.year == 2009]\n",
    "geo_filtered['date_time'] = geo_filtered['date_time'].dt.floor('min')\n",
    "\n",
    "geo_tmp = geo_filtered.groupby(['date_time', 'uid'], as_index=False).mean()"
   ]
  },
  {
   "cell_type": "code",
   "execution_count": null,
   "id": "8a7f4953-183a-4e6c-a895-9e04c1c0d6bb",
   "metadata": {},
   "outputs": [],
   "source": [
    "geo_filtered.tid.nunique()"
   ]
  },
  {
   "cell_type": "code",
   "execution_count": null,
   "id": "ec3bf4a5-4353-4547-9a84-89b346b43e1f",
   "metadata": {},
   "outputs": [],
   "source": [
    "pois_filtered.id_location.nunique()"
   ]
  },
  {
   "cell_type": "code",
   "execution_count": null,
   "id": "e936cc6b-0cca-4653-aa28-cdac6efa2b6b",
   "metadata": {},
   "outputs": [],
   "source": [
    "geo_filtered.groupby(['date_time', 'uid'], as_index=False).mean().to_csv( \"./geolife_filtered.csv\", index=False)"
   ]
  },
  {
   "cell_type": "code",
   "execution_count": null,
   "id": "cbd6b1b9-c63c-4022-a04a-f25360b9a290",
   "metadata": {},
   "outputs": [],
   "source": [
    "pois_filtered.to_csv( \"./pois_filtered.csv\", index=False)"
   ]
  },
  {
   "cell_type": "code",
   "execution_count": null,
   "id": "3aca55e2-ddd8-42ae-84ea-61957ce591ec",
   "metadata": {},
   "outputs": [],
   "source": [
    "geo_filtered[geo_filtered['date_time'].dt.year == 2009].size"
   ]
  },
  {
   "cell_type": "code",
   "execution_count": null,
   "id": "b893307e-f6df-451d-bc0e-2ca9b65fed6e",
   "metadata": {},
   "outputs": [],
   "source": [
    "geo_tmp['month'] = geo_tmp['date_time'].dt.month"
   ]
  },
  {
   "cell_type": "code",
   "execution_count": null,
   "id": "aed2af24-acb3-4494-be13-4b030ee4d080",
   "metadata": {},
   "outputs": [],
   "source": [
    "geo_tmp.month.plot.hist(grid=True, bins=12, rwidth=0.9, color='#607c8e')"
   ]
  },
  {
   "cell_type": "code",
   "execution_count": null,
   "id": "7338939d-4696-48cf-a8a0-39c01795cb8d",
   "metadata": {},
   "outputs": [],
   "source": [
    "geo_filtered.groupby(['uid', 'tid'])['tid'].count().reset_index(name=\"count\").sort_values(by='count')"
   ]
  },
  {
   "cell_type": "code",
   "execution_count": null,
   "id": "fcb347a1-ee59-4e32-a597-170e433ec61d",
   "metadata": {},
   "outputs": [],
   "source": [
    "geo_single_user = geo_filtered[(geo_filtered['uid']== 17) & (geo_filtered['tid'] >= 2705) & (geo_filtered['tid'] <= 2806)].groupby(['date_time', 'uid'], as_index=False).mean()"
   ]
  },
  {
   "cell_type": "code",
   "execution_count": null,
   "id": "cfc1ee26-0943-44f9-a9d5-624f702b9976",
   "metadata": {},
   "outputs": [],
   "source": [
    "geo_single_user"
   ]
  },
  {
   "cell_type": "code",
   "execution_count": null,
   "id": "d23dae80-9d46-4db0-8efb-0ea9b2321e2e",
   "metadata": {},
   "outputs": [],
   "source": [
    "geo_two_users = geo_filtered[(geo_filtered['uid']>= 17) & (geo_filtered['uid']<= 22)].groupby(['date_time', 'uid'], as_index=False).mean()\n",
    "\n",
    "geo_two_users.to_csv( \"./geo_two_users.csv\", index=False)"
   ]
  },
  {
   "cell_type": "code",
   "execution_count": null,
   "id": "7a2f44f5-9b36-40e1-95c3-8abfeb919c59",
   "metadata": {},
   "outputs": [],
   "source": [
    "geo_filtered = geo_filtered.sort_values(by=\"date_time\")"
   ]
  },
  {
   "cell_type": "code",
   "execution_count": null,
   "id": "32714ad2-5a0d-4b53-8a02-081f5d4fd60c",
   "metadata": {},
   "outputs": [],
   "source": [
    "geo_filtered.groupby(['uid'])['tid'].nunique().reset_index(name=\"count\").sort_values(by='count')"
   ]
  },
  {
   "cell_type": "code",
   "execution_count": null,
   "id": "8568aa77-6e63-4a4a-ba54-ff0f078a37fd",
   "metadata": {},
   "outputs": [],
   "source": [
    "geo_filtered[(geo_filtered.uid == 84)].tid.unique()"
   ]
  },
  {
   "cell_type": "code",
   "execution_count": null,
   "id": "09fbab2e-c1c2-45cc-b3e2-4b225be7eaba",
   "metadata": {},
   "outputs": [],
   "source": [
    "geo_filtered[(geo_filtered.uid == 84) & (geo_filtered.tid == 8854)]"
   ]
  },
  {
   "cell_type": "code",
   "execution_count": null,
   "id": "3ed6ffb8-948a-4d31-bec0-ee591b9afb75",
   "metadata": {},
   "outputs": [],
   "source": [
    "geo[(geo.uid < 3000) & (geo.lat <= 90) & (geo.lon <= 180)].lat.min()"
   ]
  },
  {
   "cell_type": "code",
   "execution_count": null,
   "id": "4d525875-63f2-459b-8a5c-1063f3f5f74c",
   "metadata": {},
   "outputs": [],
   "source": []
  }
 ],
 "metadata": {
  "kernelspec": {
   "display_name": "Python 3 (ipykernel)",
   "language": "python",
   "name": "python3"
  },
  "language_info": {
   "codemirror_mode": {
    "name": "ipython",
    "version": 3
   },
   "file_extension": ".py",
   "mimetype": "text/x-python",
   "name": "python",
   "nbconvert_exporter": "python",
   "pygments_lexer": "ipython3",
   "version": "3.9.12"
  }
 },
 "nbformat": 4,
 "nbformat_minor": 5
}
