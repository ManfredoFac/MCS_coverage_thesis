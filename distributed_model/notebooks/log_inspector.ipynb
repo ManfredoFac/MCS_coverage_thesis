{
 "cells": [
  {
   "cell_type": "markdown",
   "id": "42c5d9d1-d722-4a53-a584-29076588e250",
   "metadata": {},
   "source": [
    "# VERIFICA DEI LOG"
   ]
  },
  {
   "cell_type": "code",
   "execution_count": 10,
   "id": "36e8fe85-398d-4689-841b-1c4625e5a6e6",
   "metadata": {},
   "outputs": [],
   "source": [
    "import pandas as pd\n",
    "import numpy as np\n",
    "import matplotlib.pyplot as plt"
   ]
  },
  {
   "cell_type": "code",
   "execution_count": 11,
   "id": "01ce689a-a94f-401b-97f8-eba07d9fe6ab",
   "metadata": {},
   "outputs": [],
   "source": [
    "source_dir = \"../output/no_merge_short_run_new/\"\n",
    "log_engine = pd.read_csv(f'{source_dir}log_engine.csv')\n",
    "log_cov = pd.read_csv(f'{source_dir}log_coverage.csv')\n",
    "geo_filtered = pd.read_csv('geolife_filtered.csv')\n",
    "pois_filtered = pd.read_csv('pois_filtered.csv')"
   ]
  },
  {
   "cell_type": "markdown",
   "id": "a9247797-ec50-4270-9adf-eafcd78d93e8",
   "metadata": {},
   "source": [
    "### Controllare che il numero di merge effettuati dai nodi sia uguale al numero di traiettorie presenti nel dataset "
   ]
  },
  {
   "cell_type": "code",
   "execution_count": 12,
   "id": "7e977353-443a-44aa-899f-3a5845717098",
   "metadata": {},
   "outputs": [
    {
     "data": {
      "text/html": [
       "<div>\n",
       "<style scoped>\n",
       "    .dataframe tbody tr th:only-of-type {\n",
       "        vertical-align: middle;\n",
       "    }\n",
       "\n",
       "    .dataframe tbody tr th {\n",
       "        vertical-align: top;\n",
       "    }\n",
       "\n",
       "    .dataframe thead th {\n",
       "        text-align: right;\n",
       "    }\n",
       "</style>\n",
       "<table border=\"1\" class=\"dataframe\">\n",
       "  <thead>\n",
       "    <tr style=\"text-align: right;\">\n",
       "      <th></th>\n",
       "      <th>node</th>\n",
       "      <th>count</th>\n",
       "    </tr>\n",
       "  </thead>\n",
       "  <tbody>\n",
       "    <tr>\n",
       "      <th>0</th>\n",
       "      <td>0</td>\n",
       "      <td>6</td>\n",
       "    </tr>\n",
       "    <tr>\n",
       "      <th>1</th>\n",
       "      <td>3</td>\n",
       "      <td>6</td>\n",
       "    </tr>\n",
       "    <tr>\n",
       "      <th>2</th>\n",
       "      <td>4</td>\n",
       "      <td>7</td>\n",
       "    </tr>\n",
       "    <tr>\n",
       "      <th>3</th>\n",
       "      <td>22</td>\n",
       "      <td>6</td>\n",
       "    </tr>\n",
       "    <tr>\n",
       "      <th>4</th>\n",
       "      <td>25</td>\n",
       "      <td>4</td>\n",
       "    </tr>\n",
       "    <tr>\n",
       "      <th>5</th>\n",
       "      <td>30</td>\n",
       "      <td>10</td>\n",
       "    </tr>\n",
       "    <tr>\n",
       "      <th>6</th>\n",
       "      <td>39</td>\n",
       "      <td>4</td>\n",
       "    </tr>\n",
       "    <tr>\n",
       "      <th>7</th>\n",
       "      <td>82</td>\n",
       "      <td>2</td>\n",
       "    </tr>\n",
       "    <tr>\n",
       "      <th>8</th>\n",
       "      <td>84</td>\n",
       "      <td>4</td>\n",
       "    </tr>\n",
       "    <tr>\n",
       "      <th>9</th>\n",
       "      <td>85</td>\n",
       "      <td>1</td>\n",
       "    </tr>\n",
       "    <tr>\n",
       "      <th>10</th>\n",
       "      <td>128</td>\n",
       "      <td>7</td>\n",
       "    </tr>\n",
       "    <tr>\n",
       "      <th>11</th>\n",
       "      <td>140</td>\n",
       "      <td>3</td>\n",
       "    </tr>\n",
       "  </tbody>\n",
       "</table>\n",
       "</div>"
      ],
      "text/plain": [
       "    node  count\n",
       "0      0      6\n",
       "1      3      6\n",
       "2      4      7\n",
       "3     22      6\n",
       "4     25      4\n",
       "5     30     10\n",
       "6     39      4\n",
       "7     82      2\n",
       "8     84      4\n",
       "9     85      1\n",
       "10   128      7\n",
       "11   140      3"
      ]
     },
     "execution_count": 12,
     "metadata": {},
     "output_type": "execute_result"
    }
   ],
   "source": [
    "log_cov.groupby('node')['node'].count().reset_index(name=\"count\")"
   ]
  },
  {
   "cell_type": "code",
   "execution_count": null,
   "id": "a96d1f56-09b6-4ad8-a10e-4158c1a61d7c",
   "metadata": {},
   "outputs": [],
   "source": []
  },
  {
   "cell_type": "code",
   "execution_count": 13,
   "id": "f8f50901-9a7b-4a4e-bea2-69cef513a938",
   "metadata": {},
   "outputs": [
    {
     "data": {
      "text/plain": [
       "58"
      ]
     },
     "execution_count": 13,
     "metadata": {},
     "output_type": "execute_result"
    }
   ],
   "source": [
    "geo_filtered[(geo_filtered['uid'] == 128) & (geo_filtered['date_time'] >= \"2009-08-01 00:00:00\") & (geo_filtered['date_time'] <= \"2009-08-31 23:59:59\")].tid.nunique()"
   ]
  },
  {
   "cell_type": "markdown",
   "id": "1cfe0f6c-25d9-43d1-9639-3dae7b689bbc",
   "metadata": {},
   "source": [
    "### Controllare prestazioni simulatore"
   ]
  },
  {
   "cell_type": "code",
   "execution_count": 14,
   "id": "414f6f58-319f-44e4-b628-1795add22f28",
   "metadata": {},
   "outputs": [
    {
     "data": {
      "text/plain": [
       "<AxesSubplot:>"
      ]
     },
     "execution_count": 14,
     "metadata": {},
     "output_type": "execute_result"
    },
    {
     "data": {
      "image/png": "[encoded data removed]",
      "text/plain": [
       "<Figure size 432x288 with 1 Axes>"
      ]
     },
     "metadata": {
      "needs_background": "light"
     },
     "output_type": "display_data"
    }
   ],
   "source": [
    "log_engine[log_engine['type'] == \"adjacency\"].time.plot()"
   ]
  },
  {
   "cell_type": "code",
   "execution_count": 15,
   "id": "e92cba2f-9531-4b3b-a25d-77913ee9ecdb",
   "metadata": {},
   "outputs": [
    {
     "data": {
      "text/plain": [
       "<AxesSubplot:>"
      ]
     },
     "execution_count": 15,
     "metadata": {},
     "output_type": "execute_result"
    },
    {
     "data": {
      "image/png": "[encoded data removed]",
      "text/plain": [
       "<Figure size 432x288 with 1 Axes>"
      ]
     },
     "metadata": {
      "needs_background": "light"
     },
     "output_type": "display_data"
    }
   ],
   "source": [
    "log_engine[log_engine['type'] == \"merge\"].time.plot()"
   ]
  },
  {
   "cell_type": "code",
   "execution_count": 16,
   "id": "978b10ae-3fff-4cb4-811c-6535378dce14",
   "metadata": {},
   "outputs": [
    {
     "data": {
      "text/plain": [
       "<AxesSubplot:>"
      ]
     },
     "execution_count": 16,
     "metadata": {},
     "output_type": "execute_result"
    },
    {
     "data": {
      "image/png": "[encoded data removed]",
      "text/plain": [
       "<Figure size 432x288 with 1 Axes>"
      ]
     },
     "metadata": {
      "needs_background": "light"
     },
     "output_type": "display_data"
    }
   ],
   "source": [
    "log_cov.time.plot()"
   ]
  },
  {
   "cell_type": "code",
   "execution_count": 17,
   "id": "25458faa-3c61-4592-bb3f-e25bcb556263",
   "metadata": {},
   "outputs": [
    {
     "data": {
      "text/html": [
       "<div>\n",
       "<style scoped>\n",
       "    .dataframe tbody tr th:only-of-type {\n",
       "        vertical-align: middle;\n",
       "    }\n",
       "\n",
       "    .dataframe tbody tr th {\n",
       "        vertical-align: top;\n",
       "    }\n",
       "\n",
       "    .dataframe thead th {\n",
       "        text-align: right;\n",
       "    }\n",
       "</style>\n",
       "<table border=\"1\" class=\"dataframe\">\n",
       "  <thead>\n",
       "    <tr style=\"text-align: right;\">\n",
       "      <th></th>\n",
       "      <th>bucket</th>\n",
       "      <th>type</th>\n",
       "      <th>time</th>\n",
       "    </tr>\n",
       "  </thead>\n",
       "  <tbody>\n",
       "    <tr>\n",
       "      <th>0</th>\n",
       "      <td>2009-05-01T00:47:00.000000000</td>\n",
       "      <td>adjacency</td>\n",
       "      <td>0.000044</td>\n",
       "    </tr>\n",
       "    <tr>\n",
       "      <th>1</th>\n",
       "      <td>2009-05-01T00:47:00.000000000</td>\n",
       "      <td>merge</td>\n",
       "      <td>0.000020</td>\n",
       "    </tr>\n",
       "    <tr>\n",
       "      <th>2</th>\n",
       "      <td>2009-05-01T00:48:00.000000000</td>\n",
       "      <td>adjacency</td>\n",
       "      <td>0.000031</td>\n",
       "    </tr>\n",
       "    <tr>\n",
       "      <th>3</th>\n",
       "      <td>2009-05-01T00:48:00.000000000</td>\n",
       "      <td>merge</td>\n",
       "      <td>0.000022</td>\n",
       "    </tr>\n",
       "    <tr>\n",
       "      <th>4</th>\n",
       "      <td>2009-05-01T00:49:00.000000000</td>\n",
       "      <td>adjacency</td>\n",
       "      <td>0.000031</td>\n",
       "    </tr>\n",
       "    <tr>\n",
       "      <th>...</th>\n",
       "      <td>...</td>\n",
       "      <td>...</td>\n",
       "      <td>...</td>\n",
       "    </tr>\n",
       "    <tr>\n",
       "      <th>4754</th>\n",
       "      <td>NaN</td>\n",
       "      <td>merge</td>\n",
       "      <td>0.000002</td>\n",
       "    </tr>\n",
       "    <tr>\n",
       "      <th>4755</th>\n",
       "      <td>NaN</td>\n",
       "      <td>merge</td>\n",
       "      <td>0.000002</td>\n",
       "    </tr>\n",
       "    <tr>\n",
       "      <th>4756</th>\n",
       "      <td>NaN</td>\n",
       "      <td>merge</td>\n",
       "      <td>0.000002</td>\n",
       "    </tr>\n",
       "    <tr>\n",
       "      <th>4757</th>\n",
       "      <td>NaN</td>\n",
       "      <td>merge</td>\n",
       "      <td>0.000002</td>\n",
       "    </tr>\n",
       "    <tr>\n",
       "      <th>4758</th>\n",
       "      <td>NaN</td>\n",
       "      <td>merge</td>\n",
       "      <td>0.000002</td>\n",
       "    </tr>\n",
       "  </tbody>\n",
       "</table>\n",
       "<p>4759 rows × 3 columns</p>\n",
       "</div>"
      ],
      "text/plain": [
       "                             bucket       type      time\n",
       "0     2009-05-01T00:47:00.000000000  adjacency  0.000044\n",
       "1     2009-05-01T00:47:00.000000000      merge  0.000020\n",
       "2     2009-05-01T00:48:00.000000000  adjacency  0.000031\n",
       "3     2009-05-01T00:48:00.000000000      merge  0.000022\n",
       "4     2009-05-01T00:49:00.000000000  adjacency  0.000031\n",
       "...                             ...        ...       ...\n",
       "4754                            NaN      merge  0.000002\n",
       "4755                            NaN      merge  0.000002\n",
       "4756                            NaN      merge  0.000002\n",
       "4757                            NaN      merge  0.000002\n",
       "4758                            NaN      merge  0.000002\n",
       "\n",
       "[4759 rows x 3 columns]"
      ]
     },
     "execution_count": 17,
     "metadata": {},
     "output_type": "execute_result"
    }
   ],
   "source": [
    "log_engine"
   ]
  },
  {
   "cell_type": "code",
   "execution_count": 18,
   "id": "a5b66434-3e80-4ba6-9dc5-6bf1c20665c2",
   "metadata": {},
   "outputs": [],
   "source": [
    "source_dir = \"../output/no_merge_short_run/\"\n",
    "log_engine = pd.read_csv(f'{source_dir}log_engine.csv')\n",
    "log_cov = pd.read_csv(f'{source_dir}log_coverage.csv')\n",
    "geo_filtered = pd.read_csv('geolife_filtered.csv')\n",
    "pois_filtered = pd.read_csv('pois_filtered.csv')"
   ]
  },
  {
   "cell_type": "code",
   "execution_count": 19,
   "id": "3263b126-c8a3-44f0-99a8-99c948684573",
   "metadata": {},
   "outputs": [
    {
     "data": {
      "text/plain": [
       "<AxesSubplot:>"
      ]
     },
     "execution_count": 19,
     "metadata": {},
     "output_type": "execute_result"
    },
    {
     "data": {
      "image/png": "[encoded data removed]",
      "text/plain": [
       "<Figure size 432x288 with 1 Axes>"
      ]
     },
     "metadata": {
      "needs_background": "light"
     },
     "output_type": "display_data"
    }
   ],
   "source": [
    "log_cov.time.plot()"
   ]
  }
 ],
 "metadata": {
  "kernelspec": {
   "display_name": "thesis",
   "language": "python",
   "name": "thesis"
  },
  "language_info": {
   "codemirror_mode": {
    "name": "ipython",
    "version": 3
   },
   "file_extension": ".py",
   "mimetype": "text/x-python",
   "name": "python",
   "nbconvert_exporter": "python",
   "pygments_lexer": "ipython3",
   "version": "3.9.5"
  }
 },
 "nbformat": 4,
 "nbformat_minor": 5
}
