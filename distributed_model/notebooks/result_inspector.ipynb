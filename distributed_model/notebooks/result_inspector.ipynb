{
 "cells": [
  {
   "cell_type": "markdown",
   "id": "42c5d9d1-d722-4a53-a584-29076588e250",
   "metadata": {},
   "source": [
    "# VERIFICA DEI RISULTATI"
   ]
  },
  {
   "cell_type": "code",
   "execution_count": null,
   "id": "36e8fe85-398d-4689-841b-1c4625e5a6e6",
   "metadata": {},
   "outputs": [],
   "source": [
    "import pandas as pd\n",
    "import numpy as np\n",
    "import matplotlib.pyplot as plt"
   ]
  },
  {
   "cell_type": "code",
   "execution_count": null,
   "id": "01ce689a-a94f-401b-97f8-eba07d9fe6ab",
   "metadata": {},
   "outputs": [],
   "source": [
    "geo_filtered = pd.read_csv('geolife_filtered.csv')\n",
    "pois_filtered = pd.read_csv('pois_filtered.csv')\n",
    "cov = pd.read_csv('coverage.csv')"
   ]
  },
  {
   "cell_type": "markdown",
   "id": "a9247797-ec50-4270-9adf-eafcd78d93e8",
   "metadata": {},
   "source": [
    "### COMPOSIZIONE STATISTICHE SU RISULTATI"
   ]
  },
  {
   "cell_type": "code",
   "execution_count": null,
   "id": "7e977353-443a-44aa-899f-3a5845717098",
   "metadata": {},
   "outputs": [],
   "source": [
    "cov.uid.nunique()"
   ]
  },
  {
   "cell_type": "code",
   "execution_count": null,
   "id": "f8f50901-9a7b-4a4e-bea2-69cef513a938",
   "metadata": {},
   "outputs": [],
   "source": [
    "cov_max_prob = cov.groupby('id_location')['probability'].max().reset_index(name=\"p_max\").sort_values(by=[\"p_max\"],ascending=False)\n",
    "cov_min_prob = cov.groupby('id_location')['probability'].min().reset_index(name=\"p_min\").sort_values(by=[\"p_min\"],ascending=False)\n",
    "cov_mean_prob = cov.groupby('id_location')['probability'].mean().reset_index(name=\"p_mean\").sort_values(by=[\"p_mean\"],ascending=False)\n",
    "cov_num_nodes = cov.groupby('id_location')['probability'].count().reset_index(name=\"n_nodes\").sort_values(by=[\"n_nodes\"],ascending=False)\n",
    "cov_avg_prob = cov.groupby('id_location')['probability'].mean().reset_index(name=\"avg_prob\").sort_values(by=[\"avg_prob\"],ascending=False)\n",
    "cov_max_nodes = cov.groupby('uid')['probability'].max().reset_index(name=\"p_max\").sort_values(by=[\"p_max\"],ascending=False)\n",
    "\n",
    "stats = cov_max_prob.set_index('id_location').join(cov_min_prob.set_index('id_location')).join(cov_mean_prob.set_index('id_location')).sort_values(by=[\"p_max\"],ascending=False)\n",
    "stats.sort_values(by=[\"p_mean\"],ascending=False).head(20)"
   ]
  },
  {
   "cell_type": "code",
   "execution_count": null,
   "id": "aa499595-3628-488c-ba21-e5b81624f960",
   "metadata": {},
   "outputs": [],
   "source": [
    "stats.p_mean.median()"
   ]
  },
  {
   "cell_type": "code",
   "execution_count": null,
   "id": "508c493e-7b11-4871-a888-78509f1a56a8",
   "metadata": {},
   "outputs": [],
   "source": []
  },
  {
   "cell_type": "markdown",
   "id": "1cfe0f6c-25d9-43d1-9639-3dae7b689bbc",
   "metadata": {},
   "source": [
    "### PLOT METRICHE"
   ]
  },
  {
   "cell_type": "code",
   "execution_count": null,
   "id": "414f6f58-319f-44e4-b628-1795add22f28",
   "metadata": {},
   "outputs": [],
   "source": [
    "fig = plt.figure(figsize =(10, 7))\n",
    "\n",
    "# 0, 1, 5, 4, 3 \n",
    "\n",
    "# Creating plot\n",
    "plt.boxplot(cov[cov['id_location'] == cov.id_location.values[1]]['probability'])\n",
    " \n",
    "# show plot\n",
    "plt.show()"
   ]
  },
  {
   "cell_type": "code",
   "execution_count": null,
   "id": "830125b6-3900-4111-863b-25213a674d96",
   "metadata": {},
   "outputs": [],
   "source": [
    "geo_tid = geo_tmp.groupby(['uid'])['tid'].nunique().reset_index(name=\"n_tid\")\n",
    "\n",
    "geo_tid[geo_tid['n_tid'] == 1]"
   ]
  },
  {
   "cell_type": "code",
   "execution_count": null,
   "id": "285f01c7-ca33-44fc-a682-b75c11dd46d6",
   "metadata": {},
   "outputs": [],
   "source": []
  },
  {
   "cell_type": "code",
   "execution_count": null,
   "id": "e92cba2f-9531-4b3b-a25d-77913ee9ecdb",
   "metadata": {},
   "outputs": [],
   "source": [
    "log_engine[log_engine['type'] == \"merge\"].time.plot()"
   ]
  },
  {
   "cell_type": "code",
   "execution_count": null,
   "id": "978b10ae-3fff-4cb4-811c-6535378dce14",
   "metadata": {},
   "outputs": [],
   "source": [
    "log_cov.time.plot()"
   ]
  },
  {
   "cell_type": "markdown",
   "id": "b0e6c2f1-9dc6-44cf-808c-9d4b211eaa04",
   "metadata": {},
   "source": [
    "### CHECK SERIE DI COVERAGE"
   ]
  },
  {
   "cell_type": "code",
   "execution_count": null,
   "id": "6cd9581f-75eb-41b6-ab63-b2f7558ab5c9",
   "metadata": {},
   "outputs": [],
   "source": []
  }
 ],
 "metadata": {
  "kernelspec": {
   "display_name": "Python 3 (ipykernel)",
   "language": "python",
   "name": "python3"
  },
  "language_info": {
   "codemirror_mode": {
    "name": "ipython",
    "version": 3
   },
   "file_extension": ".py",
   "mimetype": "text/x-python",
   "name": "python",
   "nbconvert_exporter": "python",
   "pygments_lexer": "ipython3",
   "version": "3.9.18"
  }
 },
 "nbformat": 4,
 "nbformat_minor": 5
}
