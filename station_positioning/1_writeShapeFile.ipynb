{
 "cells": [
  {
   "cell_type": "markdown",
   "metadata": {},
   "source": [
    "# Build Un-admissibile areas and boxes for coverage computations\n",
    "- 1. Un-admissibile areas\n",
    "- 2. Boxex\n"
   ]
  },
  {
   "cell_type": "code",
   "execution_count": 4,
   "metadata": {},
   "outputs": [
    {
     "name": "stdout",
     "output_type": "stream",
     "text": [
      "[0.1, 0.3, 0.6]\n",
      "1000\n",
      "3141592.653589793\n"
     ]
    }
   ],
   "source": [
    "from shapely.geometry import Point, Polygon,box\n",
    "import yaml\n",
    "import geopandas as gpd\n",
    "import cartopy.geodesic as GD\n",
    "import geopandas as gpd\n",
    "import pyproj\n",
    "from functools import partial\n",
    "import shapely\n",
    "import numpy as np\n",
    "\n",
    "\n",
    "with open('../conf.yaml') as f:\n",
    "    conf = yaml.load(f, Loader=yaml.FullLoader)\n",
    "    \n",
    "#used to parse the conf scales\n",
    "def convert(s):\n",
    "    try:\n",
    "        return float(s)\n",
    "    except ValueError:\n",
    "        num, denom = s.split('/')\n",
    "        return float(num) / float(denom)\n",
    "\n",
    "pathBox = conf[\"pathBox\"]\n",
    "unadmissible_values = conf[\"unadmissible_values\"]\n",
    "unadmissible_values = (list(map(convert, unadmissible_values)))\n",
    "unadmissible_circle_radius = conf[\"unadmissible_circle_radius\"]\n",
    "unadmissible_circle_area = unadmissible_circle_radius*unadmissible_circle_radius*np.pi\n",
    "pathGeneral = conf[\"pathGeneral\"]\n",
    "\n",
    "print(unadmissible_values)\n",
    "print(unadmissible_circle_radius)\n",
    "print(unadmissible_circle_area)\n",
    "\n",
    "\n"
   ]
  },
  {
   "cell_type": "markdown",
   "metadata": {},
   "source": [
    "## Static un-admissibile areas\n",
    "- version 1: write wide polygons for low, normal and high boxes\n",
    "- version 2: write small polygons high box. The covered areas depends on the total area of the high box (e.g. 5%)"
   ]
  },
  {
   "cell_type": "code",
   "execution_count": 1,
   "metadata": {},
   "outputs": [
    {
     "ename": "NameError",
     "evalue": "name 'GD' is not defined",
     "output_type": "error",
     "traceback": [
      "\u001b[0;31m---------------------------------------------------------------------------\u001b[0m",
      "\u001b[0;31mNameError\u001b[0m                                 Traceback (most recent call last)",
      "\u001b[0;32m<ipython-input-1-401cf3e6af26>\u001b[0m in \u001b[0;36m<module>\u001b[0;34m\u001b[0m\n\u001b[1;32m      2\u001b[0m \u001b[0;34m\u001b[0m\u001b[0m\n\u001b[1;32m      3\u001b[0m \u001b[0;31m#un-admissibile areas in boxLow\u001b[0m\u001b[0;34m\u001b[0m\u001b[0;34m\u001b[0m\u001b[0;34m\u001b[0m\u001b[0m\n\u001b[0;32m----> 4\u001b[0;31m \u001b[0mcircle_points\u001b[0m \u001b[0;34m=\u001b[0m \u001b[0mGD\u001b[0m\u001b[0;34m.\u001b[0m\u001b[0mGeodesic\u001b[0m\u001b[0;34m(\u001b[0m\u001b[0;34m)\u001b[0m\u001b[0;34m.\u001b[0m\u001b[0mcircle\u001b[0m\u001b[0;34m(\u001b[0m \u001b[0mlon\u001b[0m\u001b[0;34m=\u001b[0m \u001b[0;36m116.074\u001b[0m\u001b[0;34m,\u001b[0m \u001b[0mlat\u001b[0m\u001b[0;34m=\u001b[0m\u001b[0;36m40.368\u001b[0m\u001b[0;34m,\u001b[0m \u001b[0mradius\u001b[0m \u001b[0;34m=\u001b[0m \u001b[0;36m500\u001b[0m\u001b[0;34m)\u001b[0m\u001b[0;34m\u001b[0m\u001b[0;34m\u001b[0m\u001b[0m\n\u001b[0m\u001b[1;32m      5\u001b[0m \u001b[0mcircle_poly1\u001b[0m \u001b[0;34m=\u001b[0m \u001b[0mPolygon\u001b[0m\u001b[0;34m(\u001b[0m\u001b[0mcircle_points\u001b[0m\u001b[0;34m)\u001b[0m\u001b[0;34m\u001b[0m\u001b[0;34m\u001b[0m\u001b[0m\n\u001b[1;32m      6\u001b[0m \u001b[0mbox1\u001b[0m \u001b[0;34m=\u001b[0m \u001b[0mbox\u001b[0m\u001b[0;34m(\u001b[0m\u001b[0;36m116.03\u001b[0m\u001b[0;34m,\u001b[0m\u001b[0;36m40.32\u001b[0m\u001b[0;34m,\u001b[0m\u001b[0;36m116.04\u001b[0m\u001b[0;34m,\u001b[0m\u001b[0;36m40.33\u001b[0m\u001b[0;34m)\u001b[0m\u001b[0;34m\u001b[0m\u001b[0;34m\u001b[0m\u001b[0m\n",
      "\u001b[0;31mNameError\u001b[0m: name 'GD' is not defined"
     ]
    }
   ],
   "source": [
    "#draw un-admissibile areas version 1\n",
    "\n",
    "#un-admissibile areas in boxLow\n",
    "circle_points = GD.Geodesic().circle( lon= 116.074, lat=40.368, radius = 500)\n",
    "circle_poly1 = Polygon(circle_points)\n",
    "box1 = box(116.03,40.32,116.04,40.33)\n",
    "poly1 = Polygon([(116.01,40.35),(116.01,40.39),(116.035,40.37)])\n",
    "\n",
    "#un-admissibile areas in boxNormal\n",
    "box2 = box(116.6,40.27,116.7,40.275)\n",
    "poly2 = Polygon([(116.63,40.22),(116.642,40.27),(116.64,40.3)])\n",
    "poly3 = Polygon([(116.6,40.28),(116.6,40.34),(116.67,40.34)])\n",
    "circle_points = GD.Geodesic().circle( lon= 116.615, lat=40.25, radius = 750)\n",
    "circle_poly2 = Polygon(circle_points)\n",
    "\n",
    "\n",
    "#un-admissibile areas in boxHigh\n",
    "box3 = box(116.39,39.95,116.4,39.97)\n",
    "circle_points = GD.Geodesic().circle( lon= 116.35, lat=39.93, radius = 1000)\n",
    "circle_poly3 = Polygon(circle_points)\n",
    "box4 = box(116.38,39.9,116.40,39.92)\n",
    "circle_points = GD.Geodesic().circle( lon= 116.31, lat=39.98, radius = 300)\n",
    "circle_poly4 = Polygon(circle_points)\n",
    "circle_points = GD.Geodesic().circle( lon= 116.37, lat=39.945, radius = 415)\n",
    "circle_poly5 = Polygon(circle_points)\n",
    "\n",
    "#scrittura su file\n",
    "areeProibite = gpd.GeoSeries([circle_poly1,box1,poly1,box2,poly2,poly3,circle_poly2,box3,box4,circle_poly3,circle_poly4,circle_poly5],crs=\"EPSG:4326\")\n",
    "areeProibite.to_file(pathAreeProibite)\n"
   ]
  },
  {
   "cell_type": "markdown",
   "metadata": {},
   "source": [
    "## Dynamic un-admissible areas"
   ]
  },
  {
   "cell_type": "code",
   "execution_count": 5,
   "metadata": {},
   "outputs": [
    {
     "name": "stdout",
     "output_type": "stream",
     "text": [
      "Area of boxHigh is:  94885022.2577306\n",
      "Area of the circles:  3141592.653589793\n",
      "processing  0.1\n",
      "target area is:  9488502.22577306\n",
      "number of circles 3\n",
      "Area for  0.1 0.0009932738123249296\n",
      "processing  0.3\n",
      "target area is:  28465506.67731918\n",
      "number of circles 9\n",
      "Area for  0.3 0.002979652502144316\n",
      "processing  0.6\n",
      "target area is:  56931013.35463836\n",
      "number of circles 18\n",
      "Area for  0.6 0.005958643689795052\n"
     ]
    }
   ],
   "source": [
    "#draw un-admissibile areas version 2\n",
    "# percentage of the total area of the box (ex. 5% 10% 15%)\n",
    "import warnings\n",
    "warnings.filterwarnings(\"ignore\")\n",
    "\n",
    "def get_area(poly):\n",
    "    geom_aea = shapely.ops.transform(partial(pyproj.transform,pyproj.Proj(init='EPSG:4326'),pyproj.Proj(proj='aea',lat_1=poly.bounds[1],lat_2=poly.bounds[3])),poly)\n",
    "    return geom_aea.area\n",
    "\n",
    "def get_valid_circle(circles, box, no_overlap = False):\n",
    "    found = False\n",
    "    if(no_overlap == False):\n",
    "        lon = np.random.uniform(low=box.bounds[0],high= box.bounds[2])\n",
    "        lat = np.random.uniform(low=box.bounds[1],high= box.bounds[3])\n",
    "        circle = GD.Geodesic().circle( lon= lon, lat=lat, radius = unadmissible_circle_radius)\n",
    "        circle = Polygon(circle)\n",
    "        return circle\n",
    "   # print(\"Without overalapping areas\")\n",
    "    while found==False:\n",
    "        \n",
    "        lon = np.random.uniform(low=box.bounds[0],high= box.bounds[2])\n",
    "        lat = np.random.uniform(low=box.bounds[1],high= box.bounds[3])\n",
    "        circle = GD.Geodesic().circle( lon= lon, lat=lat, radius = unadmissible_circle_radius)\n",
    "        circle = Polygon(circle)\n",
    "        if len(circles) == 0:\n",
    "            return circle\n",
    "        \n",
    "        for c in circles:\n",
    "            if c.overlaps(circle):\n",
    "                found = False\n",
    "                break\n",
    "            else:\n",
    "                found = True\n",
    "    return circle\n",
    "\n",
    "    \n",
    "# Read the box high\n",
    "boxes = gpd.GeoDataFrame(gpd.read_file(pathBox),crs=\"EPSG:4326\")\n",
    "boxes=boxes.set_index('index')\n",
    "\n",
    "boxHigh=boxes.at[\"boxHigh\",'geometry']\n",
    "# compute the area as square meters\n",
    "print(\"Area of boxHigh is: \",get_area(boxHigh))\n",
    "print(\"Area of the circles: \",unadmissible_circle_area)\n",
    "\n",
    "\n",
    "# x = lon, y = lat        \n",
    "area = get_area(boxHigh)\n",
    "for uvalue in unadmissible_values:\n",
    "    print(\"processing \",uvalue)\n",
    "    target_value = area*uvalue\n",
    "    print(\"target area is: \",target_value)\n",
    "    n_circles = round(target_value/unadmissible_circle_area)\n",
    "    print(\"number of circles\",n_circles)\n",
    "    # build the first set of un-admissble circles\n",
    "    circles = []\n",
    "    for i in range(n_circles):\n",
    "        #lon = np.random.uniform(low=boxHigh.bounds[0],high= boxHigh.bounds[2])\n",
    "        #lat = np.random.uniform(low=boxHigh.bounds[1],high= boxHigh.bounds[3])\n",
    "        #circle = GD.Geodesic().circle( lon= lon, lat=lat, radius = 100)\n",
    "        #circle_poly = Polygon(circle)\n",
    "        circle_poly = get_valid_circle(circles, boxHigh, True)\n",
    "        circles.append(circle_poly)\n",
    "    gpd.GeoSeries(circles,crs=\"EPSG:4326\").to_file(pathGeneral+\"unadmissible_area_\"+str(uvalue)+\".shp\")\n",
    "    a = 0\n",
    "    for c in circles:\n",
    "        a += c.area\n",
    "    print(\"Area for \",uvalue,a)\n"
   ]
  },
  {
   "cell_type": "markdown",
   "metadata": {},
   "source": [
    "## 2. Box generation for different scenario\n",
    "- Low, High, Border, Full\n"
   ]
  },
  {
   "cell_type": "code",
   "execution_count": null,
   "metadata": {},
   "outputs": [],
   "source": [
    "#scrittura box per test\n",
    "boxLow = box(116,40.3,116.1,40.4)\n",
    "boxHigh = box(116.3,39.9,116.4,40)\n",
    "boxNormal = box(116.6,40.25,116.7,40.35)\n",
    "boxBorder = box(116.2,39.95,116.3,40.05)\n",
    "boxFull = box (116,40,116.1,40.1)\n",
    "\n",
    "Box = gpd.GeoSeries(data=[boxLow,boxHigh,boxNormal,boxBorder,boxFull],index=[\"boxLow\",\"boxHigh\",\"boxNormal\",\"boxBorder\",\"boxFull\"],crs=\"EPSG:4326\")\n",
    "Box.to_file(pathBox)\n",
    "print(Box)"
   ]
  }
 ],
 "metadata": {
  "kernelspec": {
   "display_name": "Python 3 (ipykernel)",
   "language": "python",
   "name": "python3"
  },
  "language_info": {
   "codemirror_mode": {
    "name": "ipython",
    "version": 3
   },
   "file_extension": ".py",
   "mimetype": "text/x-python",
   "name": "python",
   "nbconvert_exporter": "python",
   "pygments_lexer": "ipython3",
   "version": "3.9.12"
  }
 },
 "nbformat": 4,
 "nbformat_minor": 4
}
