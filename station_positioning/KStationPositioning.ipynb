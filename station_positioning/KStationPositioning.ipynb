{
 "cells": [
  {
   "cell_type": "code",
   "execution_count": 13,
   "metadata": {},
   "outputs": [],
   "source": [
    "import pandas as pd\n",
    "import shapely\n",
    "#import pyproj\n",
    "#from pyproj import CRS\n",
    "from shapely.geometry import Point, Polygon\n",
    "import geopandas\n",
    "import matplotlib\n",
    "#from planar import BoundingBox\n",
    "#from geopy import distance \n",
    "import matplotlib.pyplot as plt\n",
    "from matplotlib import cm\n",
    "from scipy.interpolate import griddata\n",
    "import numpy as np\n",
    "#import planar\n",
    "import cartopy.geodesic as GD\n",
    "\n",
    "import yaml\n",
    "import matplotlib.patches as mpatches\n",
    "from matplotlib.collections import PatchCollection\n",
    "\n",
    "#lettura dal file di configurazione\n",
    "\n",
    "with open('../conf.yaml') as f:\n",
    "    conf = yaml.load(f, Loader=yaml.FullLoader)\n",
    "Dr = conf[\"uav_radius\"]\n",
    "Cr = conf[\"tau\"]\n"
   ]
  },
  {
   "cell_type": "markdown",
   "metadata": {},
   "source": [
    "## funzione per calcolare la distanza geodetica\n"
   ]
  },
  {
   "cell_type": "code",
   "execution_count": 2,
   "metadata": {},
   "outputs": [],
   "source": [
    "#funzione per calcolare la distanza geodetica\n",
    "def haversine(lat1, lon1, lat2, lon2):\n",
    "    lat1, lon1, lat2, lon2 = map(np.deg2rad, [lat1, lon1, lat2, lon2])\n",
    "    dlat = lat2 - lat1 \n",
    "    dlon = lon2 - lon1 \n",
    "    a = np.sin(dlat/2)**2 + np.cos(lat1) * np.cos(lat2) * np.sin(dlon/2)**2\n",
    "    c = 2 * np.arcsin(np.sqrt(a)) \n",
    "    #total_meters = METERS * c\n",
    "    r = 6371 #radiu * 1000 to return meters\n",
    "    return c * r *1000"
   ]
  },
  {
   "cell_type": "markdown",
   "metadata": {},
   "source": [
    "## funzione per la divisione di punti in insieme prioritario e secondario"
   ]
  },
  {
   "cell_type": "code",
   "execution_count": 3,
   "metadata": {},
   "outputs": [],
   "source": [
    "#inserisco in prio i punti che si trovano a distance < Dr \n",
    "# e li elimino da sec, invece in sec lascio i punti che si trovano ad una distanza compresa \n",
    "# tra Dr e 2*Dr\n",
    "#viene richiamata dopo la funziona aggiornaDistanza in modo tale che le distante dal punto rilevante siano aggiornate\n",
    "def aggiornaSecPrio(sec,prio):\n",
    "    for row in sec.itertuples():\n",
    "        k = row.Index\n",
    "        if row.distance >= Dr*2 :\n",
    "            sec.drop(k,inplace = True)\n",
    "        elif row.distance <= Dr :\n",
    "            #prio = geopandas.GeoDataFrame({'distance':[sec.at[k,'distance']],'geometry':[sec.at[k,'geometry']]},index=[k]).append(prio)\n",
    "            prio = geopandas.GeoDataFrame({'distance':[sec.at[k,'distance']],'geometry':[sec.at[k,'geometry']], 'id_location':[sec.at[k,'id_location']]},index=[k]).append(prio)\n",
    "            sec.drop(k,inplace = True)\n",
    "    #import pdb; pdb.set_trace()       \n",
    "    return sec,prio"
   ]
  },
  {
   "cell_type": "markdown",
   "metadata": {},
   "source": [
    "## funzioni per il controllo del centro C"
   ]
  },
  {
   "cell_type": "code",
   "execution_count": 4,
   "metadata": {},
   "outputs": [],
   "source": [
    "#controllo che il centro sia valido altrimenti genero un nuovo centro\n",
    "def checkCenter(C,df,box,areeProibite) : \n",
    "    if invalidCenter(C,areeProibite):\n",
    "        #il centro è invalido quindi provo a generare un nuovo centro\n",
    "        C = generateNewCenter(df,box,areeProibite)\n",
    "    return C"
   ]
  },
  {
   "cell_type": "code",
   "execution_count": 5,
   "metadata": {},
   "outputs": [],
   "source": [
    "#controllo che il centro calcolato non ricade in un area proibita\n",
    "def invalidCenter(C,areeProibite):\n",
    "    c = Point(C[0],C[1])\n",
    "    for index,value in areeProibite.items():\n",
    "        if value.intersects(c):\n",
    "            return True\n",
    "    return False"
   ]
  },
  {
   "cell_type": "code",
   "execution_count": 6,
   "metadata": {},
   "outputs": [],
   "source": [
    "#funzione che genera un nuovo centro\n",
    "def generateNewCenter(df,box,areeProibite) :\n",
    "    #per ogni punto in df creo un cerchio di raggio Dr, faccio l'intersezione di questi cerchi e il box\n",
    "    #l'intersezione sarà uguale a tutti i possibili punti che posso scegliere come centro per coprire\n",
    "    #tutti i punti in df, devo però eliminare le zone non ammesse!\n",
    "    intersect_circle = box\n",
    "    for row in df.itertuples():\n",
    "        lon = row.geometry.x\n",
    "        lat = row.geometry.y\n",
    "        circle_points = GD.Geodesic().circle( lon= lon, lat=lat, radius = Dr)\n",
    "        circle_poly = Polygon(circle_points)\n",
    "        intersect_circle = intersect_circle.intersection(circle_poly.buffer(0))\n",
    "    \n",
    "    #faccio la differenza dell'intersezione calcolata prima con le zone non ammesse \n",
    "    #per trovare un'area valida all'interno della quale scegliere il nuovo centro\n",
    "    for index,value in areeProibite.items():\n",
    "        if intersect_circle.is_empty:\n",
    "            break\n",
    "        else :\n",
    "            intersect_circle=intersect_circle.difference(value.buffer(0))\n",
    "    #intersezione vuota -> non è stato possibile generare un nuovo centro \n",
    "    #altrimenti prendo un punto a caso in intersect_circle\n",
    "    if intersect_circle.is_empty:\n",
    "        return (181,91)\n",
    "    else :\n",
    "        # estraggo un punto ammissibile dall'area risultante\n",
    "        (x,y)=intersect_circle.representative_point().coords[0]\n",
    "        return (x,y)"
   ]
  },
  {
   "cell_type": "markdown",
   "metadata": {},
   "source": [
    "## funzione per l'aggiornamento delle distance in df dal punto mylocation"
   ]
  },
  {
   "cell_type": "code",
   "execution_count": 7,
   "metadata": {},
   "outputs": [],
   "source": [
    "#vado ad aggiornare la colonna 'distance' in df per avere le distanze tra ogni punto in df e mylocation\n",
    "def aggiornaDistanza (mylocation,df):\n",
    "    for row2 in df.itertuples():\n",
    "            index2 = row2.Index\n",
    "            location = df.at[index2,'geometry'].coords[0]\n",
    "            df.at[index2,'distance'] = haversine(mylocation[1],mylocation[0],location[1],location[0])"
   ]
  },
  {
   "cell_type": "markdown",
   "metadata": {},
   "source": [
    "## funzione di ottimizzazione dell'algoritmo"
   ]
  },
  {
   "cell_type": "code",
   "execution_count": 8,
   "metadata": {},
   "outputs": [],
   "source": [
    "#conto quante sono le locazioni a distanza <= 2*Dr da mylocation ovvero tutte le locazioni che\n",
    "#teoricamente risultano raggiungibili dal drone sapendo che si DEVE raggiungere mylocation\n",
    "def insertReachableLocations (df,mylocation,myindex):\n",
    "    count=0\n",
    "    for row in df.itertuples():\n",
    "        index = row.Index\n",
    "        location=df.at[index,'geometry'].coords[0]\n",
    "        d = haversine(mylocation[1],mylocation[0],location[1],location[0])\n",
    "        if d <= Dr*2 :\n",
    "            count=count+1\n",
    "    df.at[myindex,'reachableLocations'] = count        "
   ]
  },
  {
   "cell_type": "code",
   "execution_count": 9,
   "metadata": {},
   "outputs": [],
   "source": [
    "def newDfCoverage (dfInitial, dfPointCovered) : \n",
    "    dfNew = dfPointCovered.copy()\n",
    "    dfNew['probability']=1\n",
    "    dfNew=dfNew.drop(['distance'],axis=1)\n",
    "    dfNew = dfNew.append(dfInitial)\n",
    "    dfNew = dfNew.drop_duplicates(subset=['geometry'])\n",
    "    return dfNew"
   ]
  },
  {
   "cell_type": "markdown",
   "metadata": {},
   "source": [
    "# funzione di copertura locale \n",
    "## preso un punto restituisce la posizione ottimale del drone quando si deve coprire quel punto"
   ]
  },
  {
   "cell_type": "code",
   "execution_count": 10,
   "metadata": {},
   "outputs": [],
   "source": [
    "import numpy as np\n",
    "import miniball\n",
    "\n",
    "def LocalCover(sec,myindex,box,areeProibite):\n",
    "    C = sec.at[myindex,'geometry'].coords[0]\n",
    "    prio = geopandas.GeoDataFrame ({'distance':[0],'geometry':[sec.at[myindex,'geometry']]}, index =[myindex])\n",
    "    sec=sec.drop(myindex)\n",
    "    sec = sec.drop(['reachableLocations'],axis = 'columns')\n",
    "    C_checked = checkCenter (C ,prio,box,areeProibite)\n",
    "    if C_checked == (181,91):\n",
    "        #il punto in esame non può essere coperto in alcun caso perchè tutta la zona attorno a lui\n",
    "        # è zona non ammessa\n",
    "        return [(181,91),geopandas.GeoDataFrame(),0] \n",
    "\n",
    "    mylocation = C_checked       \n",
    "    aggiornaDistanza(mylocation,sec)\n",
    "    aggiornaDistanza(mylocation, prio)\n",
    "    sec,prio=aggiornaSecPrio(sec,prio)\n",
    "    R=prio['distance'].max()\n",
    "\n",
    "    while sec.empty == False :\n",
    "        #ordino sec in base alla colonna distance, prendo il primo elemento (quello con distanza più bassa)\n",
    "        sec=sec.sort_values(by=['distance'])\n",
    "        firstPosition = sec.head(1)\n",
    "        #creo un nuovo dataframe con l'insieme prioritario e il primo elemento di sec\n",
    "        app = geopandas.GeoDataFrame(firstPosition).append(prio)\n",
    "        #elimino i duplicati altrimenti miniball genera eccezione\n",
    "        app2 = app.drop_duplicates(subset=['geometry'])\n",
    "        #trasformo il datafram in matrice per passarlo a miniball\n",
    "        mx=app2['geometry'].x.to_numpy()\n",
    "        my=app2['geometry'].y.to_numpy()\n",
    "        m = np.array([mx,my]).T\n",
    "        #calcolo il centro risolvendo il problema 1-center\n",
    "        C, r2 = miniball.get_bounding_ball(m)\n",
    "        C = tuple(C)\n",
    "        #calcolo la distanza di ciascun punto di app dal centro per stabilire il raggio\n",
    "        # e prepararmi a una nuova iterazione\n",
    "        aggiornaDistanza(C, app)\n",
    "        r = app['distance'].max()\n",
    "        #r<=Dr => posso posizionare il drone per coprire tutti i punti in app\n",
    "        #r>Dr => il drone non riesce a coprire tutti i punti in app quindi devo fermarmi\n",
    "        if r<=Dr :\n",
    "            #controllo che il centro calcolato sia valido\n",
    "            #checkCenter restituisce sempre un centro C_checked che:\n",
    "            # C_checked = C se C era un centro valido\n",
    "            # C_checked = (181,91) = locazione inesistente se ogni centro che copre i punti in app ricade\n",
    "            #in una zona non ammessa\n",
    "            #altrimenti C_checked sarà uguale a un nuovo centro valido\n",
    "            C_checked = checkCenter (C ,app ,box,areeProibite)\n",
    "            if C_checked == (181,91):\n",
    "                return [mylocation, prio ,R]\n",
    "            elif C_checked!=C :\n",
    "                #se è diverso da C devo riaggiornare le distanze in app\n",
    "                aggiornaDistanza(C_checked,app)\n",
    "            #mi preparo a una nuova iterazione: aggiorno sec, prio e le loro colonne 'distance', aggiorno \n",
    "            #la posizione e il raggio\n",
    "            mylocation = C_checked\n",
    "            prio = app\n",
    "            sec.drop(firstPosition.index,inplace = True)\n",
    "            aggiornaDistanza(mylocation,sec)\n",
    "            sec,prio = aggiornaSecPrio (sec,prio)\n",
    "            R = prio['distance'].max()\n",
    "        else :\n",
    "            return [mylocation, prio, R]\n",
    "    return [mylocation,prio,R]"
   ]
  },
  {
   "cell_type": "markdown",
   "metadata": {},
   "source": [
    "# algoritmo di posizionamento\n",
    "## richiama la funzione LocalCover finchè non è possibile determinare la posizione ottima"
   ]
  },
  {
   "cell_type": "code",
   "execution_count": 11,
   "metadata": {},
   "outputs": [],
   "source": [
    "def stationPositioning(df,box,areeProibite):\n",
    "    df.reset_index(drop=True, inplace = True)\n",
    "    nrows = df.index.size\n",
    "    dfLocations = df.drop(['probability'], axis = 1)\n",
    "    dfLocations[\"distance\"] = \"\"\n",
    "    numberLocations = dfLocations.shape[0]\n",
    "    dfLocations[\"reachableLocations\"] = \"\"\n",
    "    #import pdb; pdb.set_trace()\n",
    "    #ottimizzazione: conteggio i punti a distanza minore di 2*Dr da un determinato punto\n",
    "    for row in dfLocations.itertuples():\n",
    "        insertReachableLocations(dfLocations,row.geometry.coords[0],row.Index)\n",
    "    dfLocations=dfLocations.sort_values(by=['reachableLocations'],ascending=False)\n",
    "    #import pdb; pdb.set_trace()                    \n",
    "    #algoritmo station-positioning\n",
    "    nTott=0\n",
    "    Cott = (181,91)\n",
    "    #Cott = generateNewCenter(geopandas.GeoDataFrame(),box)\n",
    "    Tott = None\n",
    "    Rott=0\n",
    "    numberIterations=0\n",
    "    for row in dfLocations.itertuples():\n",
    "        numberIterations = numberIterations+1\n",
    "        if nTott >= row.reachableLocations :\n",
    "            #i punti che potrei coprire con le prossime iterazioni non migliorerebbero il risultato\n",
    "            break ;\n",
    "        #richiamo LocalCover per cercare un centro C che copre il punto corrente e il maggior numero\n",
    "        #di punti T\n",
    "        [C,T,r] = LocalCover(dfLocations,row.Index,box,areeProibite)\n",
    "        nT = T.shape[0]\n",
    "        if nT == row.reachableLocations :\n",
    "            #i punti teoricamente raggiungibili equivalgono a quelli raggiunti\n",
    "            Cott=C\n",
    "            Tott = T\n",
    "            nTott = nT\n",
    "            Rott=r\n",
    "            break\n",
    "        elif nT>nTott :\n",
    "            #la soluzione appena trovata è migliore della soluzione \"ottima\" precedente\n",
    "            Cott=C\n",
    "            Tott = T\n",
    "            nTott = nT\n",
    "            Rott=r\n",
    "        elif nT == nTott and r<Rott :\n",
    "            #nel caso i punti coperti sia gli stessi scelgo la soluzione che ha raggio di copertura più basso\n",
    "            Cott=C\n",
    "            Tott = T\n",
    "            nTott = nT\n",
    "            Rott=r\n",
    "            \n",
    "    #output = \"LA POSIZIONE OTTIMALE DEL DRONE E' \" + str(Cott)+ \" VENGONO INCLUSI \" + str(nTott) + \" PUNTI\\n\" +\"Sono state fatte \"+ str(numberIterations) + \" iterazioni su \" + str(numberLocations)+\"\\n\"+str(Tott) +\"\\nraggio minimo = \" + str(Rott) + \" Dr = \" + str(Dr)\n",
    "    #print(output)\n",
    "    return [Cott,Rott,nTott,Tott,numberIterations]"
   ]
  },
  {
   "cell_type": "markdown",
   "metadata": {},
   "source": [
    "# Algoritmo di posizionamento di K stazioni\n",
    "## richiama K volte l'algoritmo Station-Positioning"
   ]
  },
  {
   "cell_type": "code",
   "execution_count": null,
   "metadata": {},
   "outputs": [],
   "source": [
    "#K-STATIONPOSITIONING\n",
    "def KStationPositioning (df,box,K,areeProibite):\n",
    "    df = df[(df.probability<=Cr)]\n",
    "    print(Cr)\n",
    "    print(\"Kstation: after filter :\",len(df))\n",
    "    #print(df)\n",
    "    #inizializzazione dei valore da restituire\n",
    "    maxIterations = 0\n",
    "    numberPoints = df.shape[0]\n",
    "    numberIterations = 0\n",
    "    i = 0\n",
    "    list_centers = []\n",
    "    sum_nTott = 0\n",
    "    sum_Tott = geopandas.GeoDataFrame()\n",
    "    list_radius = []\n",
    "    #se le stazioni non sono state tutte posizionate e ci sono ancora punti da coprire richiamo\n",
    "    #l'algoritmo StationPositioning per ottenere:\n",
    "    # C = posizione del drone\n",
    "    # R = raggio minimo per coprire tutti i punti in T\n",
    "    # T = tutti i punti coperti avendo centro C\n",
    "    # nT = numero di punti coperti\n",
    "    # nIter = numero di iterazioni di LocalCover \n",
    "    while i<K and df.empty==False:\n",
    "        [C,R,nT,T,nIter]=stationPositioning(df,box,areeProibite)\n",
    "        maxIterations = maxIterations + df.shape[0]\n",
    "        numberIterations = numberIterations + nIter\n",
    "        if C == (181,91):\n",
    "            #non è stato possibile posizionare questa stazione quindi non sarà possibile posizionarne \n",
    "            #altre perchè i punti non ancora coperti non possono essere coperti a causa delle zone non ammesse\n",
    "            break\n",
    "        #aggiornamento valori da restituire\n",
    "        list_centers.append(C)\n",
    "        list_radius.append(R)\n",
    "        sum_Tott = sum_Tott.append(T)\n",
    "        print(\"Tot k\",i,len(T))\n",
    "        sum_nTott = sum_nTott+nT\n",
    "        #creo un cerchio di centro C e raggio Dr\n",
    "        circle_points = GD.Geodesic().circle( lon=C[0] , lat=C[1] , radius = Dr)\n",
    "        circle_poly = Polygon(circle_points)\n",
    "        dfCircle = geopandas.GeoDataFrame({'geometry':[circle_poly]},crs=\"EPSG:4326\")\n",
    "        #faccio la differenza tra il df contente i punti e il cerchio in modo da eliminare i punti già\n",
    "        # coperti\n",
    "        df = geopandas.overlay(df,dfCircle,how=\"difference\")\n",
    "        i=i+1\n",
    "      \n",
    "    return [list_centers,list_radius,sum_nTott,sum_Tott,numberIterations,maxIterations,numberPoints,K]\n"
   ]
  },
  {
   "cell_type": "code",
   "execution_count": null,
   "metadata": {},
   "outputs": [],
   "source": []
  }
 ],
 "metadata": {
  "kernelspec": {
   "display_name": "Python 3",
   "language": "python",
   "name": "python3"
  },
  "language_info": {
   "codemirror_mode": {
    "name": "ipython",
    "version": 3
   },
   "file_extension": ".py",
   "mimetype": "text/x-python",
   "name": "python",
   "nbconvert_exporter": "python",
   "pygments_lexer": "ipython3",
   "version": "3.7.3"
  }
 },
 "nbformat": 4,
 "nbformat_minor": 4
}
