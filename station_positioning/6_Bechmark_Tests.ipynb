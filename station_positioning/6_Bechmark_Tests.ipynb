{
 "cells": [
  {
   "cell_type": "markdown",
   "metadata": {},
   "source": [
    "# Posizionamento con altri algoritmi\n",
    "- 1. Random\n",
    "- 2. DBSCAN"
   ]
  },
  {
   "cell_type": "code",
   "execution_count": 1,
   "metadata": {},
   "outputs": [],
   "source": [
    "import pandas as pd\n",
    "import shapely\n",
    "#import pyproj\n",
    "#from pyproj import CRS\n",
    "from shapely.geometry import Point, Polygon\n",
    "import geopandas\n",
    "import matplotlib\n",
    "#from planar import BoundingBox\n",
    "#from geopy import distance \n",
    "import matplotlib.pyplot as plt\n",
    "from matplotlib import cm\n",
    "from scipy.interpolate import griddata\n",
    "import numpy as np\n",
    "#import planar\n",
    "import yaml\n",
    "import matplotlib.patches as mpatches\n",
    "from matplotlib.collections import PatchCollection\n",
    "import cartopy.geodesic as GD\n",
    "\n",
    "\n",
    "with open('../conf.yaml') as f:\n",
    "    conf = yaml.load(f, Loader=yaml.FullLoader)\n",
    "path = conf[\"path\"]\n",
    "Dr = conf[\"radius\"]\n",
    "Cr = conf[\"soglia\"]\n",
    "R0_iterations = conf[\"R0_iterations\"]\n",
    "pathAreeProibite = conf[\"pathAreeProibite\"]\n",
    "pathDFLow = conf[\"pathDFLow\"]\n",
    "pathDFNormal = conf[\"pathDFNormal\"]\n",
    "pathDFHigh = conf[\"pathDFHigh\"]\n",
    "pathDFBorder = conf [\"pathDFBorder\"]\n",
    "pathDFFull = conf [\"pathDFFull\"]\n",
    "pathBox = conf[\"pathBox\"]\n",
    "\n",
    "#lettura dei df aumentati\n",
    "# Low\n",
    "b = geopandas.read_file(pathDFLow+\"DFLow.geojson\",index_col = 0,columns=['probability','geometry'])\n",
    "dfLow=geopandas.GeoDataFrame(b,crs=\"EPSG:4326\")\n",
    "dfLowDiscovered = dfLow[(dfLow.probability<=Cr)]\n",
    "\n",
    "# Normal\n",
    "b = geopandas.read_file(pathDFNormal+\"DFNormal.geojson\",index_col = 0,columns=['probability','geometry'])\n",
    "dfNormal = geopandas.GeoDataFrame(b,crs=\"EPSG:4326\")\n",
    "dfNormalDiscovered = dfNormal[(dfNormal.probability<=Cr)]\n",
    "\n",
    "\n",
    "# High\n",
    "b = geopandas.read_file(pathDFHigh+\"DFHigh.geojson\",index_col = 0,columns=['probability','geometry'])\n",
    "dfHigh=geopandas.GeoDataFrame(b,crs=\"EPSG:4326\")\n",
    "dfHighDiscovered = dfHigh[(dfHigh.probability<=Cr)]\n",
    "\n",
    "# Border\n",
    "b = geopandas.read_file(pathDFBorder+\"DFBorder.geojson\",index_col = 0,columns=['probability','geometry'])\n",
    "dfBorder=geopandas.GeoDataFrame(b,crs=\"EPSG:4326\")\n",
    "dfBorderDiscovered = dfBorder[(dfBorder.probability<=Cr)]\n",
    "\n",
    "\n",
    "#prelevo i box per il test\n",
    "Box = geopandas.GeoDataFrame(geopandas.read_file(pathBox),crs=\"EPSG:4326\")\n",
    "Box=Box.set_index('index')\n",
    "boxLow=Box.at[\"boxLow\",'geometry']\n",
    "boxNormal=Box.at[\"boxNormal\",'geometry']\n",
    "boxHigh=Box.at[\"boxHigh\",'geometry']\n",
    "boxBorder=Box.at[\"boxBorder\",'geometry']\n",
    "\n",
    "\n",
    "#Prelevo le aree proibite\n",
    "areeProibite = geopandas.GeoDataFrame(geopandas.read_file(pathAreeProibite),crs = \"EPSG:4326\")\n",
    "areeProibite=areeProibite['geometry']\n"
   ]
  },
  {
   "cell_type": "markdown",
   "metadata": {},
   "source": [
    "# 1. Random Deployement"
   ]
  },
  {
   "cell_type": "markdown",
   "metadata": {},
   "source": [
    "# Funzione per il posizionamento random di una stazione"
   ]
  },
  {
   "cell_type": "code",
   "execution_count": 2,
   "metadata": {},
   "outputs": [],
   "source": [
    "\n",
    "def randomTest1(dfPoint,dfPointDiscovered,box) :\n",
    "\n",
    "    boundsBox = box.bounds\n",
    "    minlat=boundsBox[1]\n",
    "    maxlat=boundsBox[3]\n",
    "    minlon=boundsBox[0]\n",
    "    maxlon=boundsBox[2]\n",
    "    mat = np.zeros((R0_iterations,2))\n",
    "\n",
    "    #genero lon e lat casuali delle stazioni\n",
    "    for k in range(R0_iterations) : \n",
    "        lon = np.random.uniform (minlon,maxlon,1)\n",
    "        mat[k][0] = lon\n",
    "        lat = np.random.uniform (minlat,maxlat,1)\n",
    "        mat [k][1] = lat\n",
    "        \n",
    "    #costruisco un geodataframe con le posizioni generate casualmente\n",
    "    dfStations = geopandas.GeoDataFrame(crs=\"EPSG:4326\", geometry=geopandas.points_from_xy(mat[:,0], mat[:,1]))\n",
    "    dfStations['pointsCoveredUAV'] = \"\"\n",
    "    dfStations['pointsCoveredTotal'] = \"\"\n",
    "    \n",
    "    #conteggio i punti coperti dalle varie stazioni\n",
    "    for row in dfStations.itertuples():\n",
    "        lon = row.geometry.x\n",
    "        lat = row.geometry.y\n",
    "        circle_points = GD.Geodesic().circle( lon= lon, lat=lat, radius = Dr)\n",
    "        circle_poly = Polygon(circle_points)\n",
    "        dfCircle = geopandas.GeoDataFrame({'geometry':[circle_poly]},crs=\"EPSG:4326\")\n",
    "        df = geopandas.sjoin(dfPointDiscovered, dfCircle, how = \"inner\", op=\"intersects\")\n",
    "        dfStations.at[row.Index,'pointsCoveredUAV'] = df.shape[0]\n",
    "        df = geopandas.sjoin(dfPoint, dfCircle, how = \"inner\", op=\"intersects\")\n",
    "        dfStations.at[row.Index,'pointsCoveredTotal'] = df.shape[0]\n",
    "    \n",
    "    print(dfStations.head())\n",
    "    return dfStations\n"
   ]
  },
  {
   "cell_type": "markdown",
   "metadata": {},
   "source": [
    "# Funzione per il posizionamento random di 3 stazioni"
   ]
  },
  {
   "cell_type": "code",
   "execution_count": 4,
   "metadata": {},
   "outputs": [],
   "source": [
    "import cartopy.geodesic as GD\n",
    "\n",
    "def randomTest3(dfPoint,dfPointDiscovered,box) :\n",
    "\n",
    "    boundsBox = box.bounds\n",
    "    minlat=boundsBox[1]\n",
    "    maxlat=boundsBox[3]\n",
    "    minlon=boundsBox[0]\n",
    "    maxlon=boundsBox[2]\n",
    "    mat = np.zeros((R0_iterations,6))\n",
    "\n",
    "    #genero lon e lat casuali delle stazioni\n",
    "    for k in range(R0_iterations) : \n",
    "        for i in range (3) :\n",
    "            lon = np.random.uniform (minlon,maxlon,1)\n",
    "            mat[k][0+i*2] = lon\n",
    "            lat = np.random.uniform (minlat,maxlat,1)\n",
    "            mat [k][1+i*2] = lat\n",
    "\n",
    "    #costruisco un geodataframe con le posizioni generate casualmente\n",
    "    dfStations = pd.DataFrame(mat,columns=['lon1','lat1','lon2','lat2','lon3','lat3'])\n",
    "    dfStations['pointsCoveredUAV'] = \"\"\n",
    "    dfStations['pointsCoveredTotal'] = \"\"\n",
    "\n",
    "    #conteggio i punti coperti dalle varie stazioni\n",
    "    for row in dfStations.itertuples():\n",
    "        circle_poly1 = Polygon (GD.Geodesic().circle( lon= row.lon1, lat=row.lat1, radius = Dr))\n",
    "        circle_poly2 = Polygon(GD.Geodesic().circle( lon= row.lon2, lat=row.lat2, radius = Dr))\n",
    "        circle_poly3 = Polygon(GD.Geodesic().circle( lon= row.lon3, lat=row.lat3, radius = Dr))\n",
    "        dfCircle = geopandas.GeoDataFrame({'geometry':[circle_poly1,circle_poly2,circle_poly3]},crs=\"EPSG:4326\")\n",
    "        \n",
    "        df = geopandas.sjoin(dfPointDiscovered, dfCircle, how = \"inner\", op=\"intersects\")\n",
    "        df.drop_duplicates(subset=['geometry'],inplace = True)\n",
    "        dfStations.at[row.Index,'pointsCoveredUAV'] = df.shape[0]\n",
    "        df = geopandas.sjoin(dfPoint, dfCircle, how = \"inner\", op=\"intersects\")\n",
    "        df.drop_duplicates(subset=['geometry'],inplace = True)\n",
    "        dfStations.at[row.Index,'pointsCoveredTotal'] = df.shape[0]\n",
    "    print(dfStations.head())\n",
    "    return dfStations"
   ]
  },
  {
   "cell_type": "markdown",
   "metadata": {},
   "source": [
    "# Funzione per il posizionamento random di 3 stazioni con zone non ammesse"
   ]
  },
  {
   "cell_type": "code",
   "execution_count": 8,
   "metadata": {},
   "outputs": [],
   "source": [
    "def randomTest3_areeProibite(dfPoint,dfPointDiscovered,box) :\n",
    "\n",
    "    boundsBox = box.bounds\n",
    "    minlat=boundsBox[1]\n",
    "    maxlat=boundsBox[3]\n",
    "    minlon=boundsBox[0]\n",
    "    maxlon=boundsBox[2]\n",
    "    mat = np.zeros((R0_iterations,6))\n",
    "\n",
    "    #genero lon e lat casuali delle stazioni e controllo che siano valide\n",
    "    for k in range(R0_iterations) : \n",
    "        i = 0\n",
    "        while i<3 :\n",
    "            lon = np.random.uniform (minlon,maxlon,1)\n",
    "            lat = np.random.uniform (minlat,maxlat,1)\n",
    "            if invalidCenter((lon,lat),areeProibite) == False:\n",
    "                mat[k][0+i*2] = lon\n",
    "                mat [k][1+i*2] = lat\n",
    "                i = i+1\n",
    "\n",
    "    #costruisco un dataframe con le posizioni generate casualmente\n",
    "    dfStations = pd.DataFrame(mat,columns=['lon1','lat1','lon2','lat2','lon3','lat3'])\n",
    "    dfStations['pointsCoveredUAV'] = \"\"\n",
    "    dfStations['pointsCoveredTotal'] = \"\"\n",
    "\n",
    "    #conteggio i punti coperti dalle varie stazioni\n",
    "    for row in dfStations.itertuples():\n",
    "        circle_poly1 = Polygon (GD.Geodesic().circle( lon= row.lon1, lat=row.lat1, radius = Dr))\n",
    "        circle_poly2 = Polygon(GD.Geodesic().circle( lon= row.lon2, lat=row.lat2, radius = Dr))\n",
    "        circle_poly3 = Polygon(GD.Geodesic().circle( lon= row.lon3, lat=row.lat3, radius = Dr))\n",
    "        dfCircle = geopandas.GeoDataFrame({'geometry':[circle_poly1,circle_poly2,circle_poly3]},crs=\"EPSG:4326\")\n",
    "        \n",
    "        df = geopandas.sjoin(dfPointDiscovered, dfCircle, how = \"inner\", op=\"intersects\")\n",
    "        df.drop_duplicates(subset=['geometry'],inplace = True)\n",
    "        dfStations.at[row.Index,'pointsCoveredUAV'] = df.shape[0]\n",
    "        df = geopandas.sjoin(dfPoint, dfCircle, how = \"inner\", op=\"intersects\")\n",
    "        df.drop_duplicates(subset=['geometry'],inplace = True)\n",
    "        dfStations.at[row.Index,'pointsCoveredTotal'] = df.shape[0]\n",
    "    print(dfStations.head())\n",
    "    return dfStations"
   ]
  },
  {
   "cell_type": "markdown",
   "metadata": {},
   "source": [
    "# Calcolo di dati statistici e scrittura su file"
   ]
  },
  {
   "cell_type": "code",
   "execution_count": 3,
   "metadata": {},
   "outputs": [],
   "source": [
    "\n",
    "def statistics(dfStations,path,k) :\n",
    "\n",
    "    pointsCoveredUAV = dfStations['pointsCoveredUAV']\n",
    "    pointsCoveredTotal = dfStations['pointsCoveredTotal']\n",
    "    meanCoverageUAV = pointsCoveredUAV.mean(axis=0)\n",
    "    stdCoverageUAV = pointsCoveredUAV.std()\n",
    "    percentile_75UAV = pointsCoveredUAV.quantile(.75)\n",
    "    percentile_25UAV = pointsCoveredUAV.quantile(.25)\n",
    "    maxUAV = pointsCoveredUAV.max()\n",
    "    meanCoverageTot = pointsCoveredTotal.mean(axis=0)\n",
    "    percentile_75Tot = pointsCoveredTotal.quantile(.75)\n",
    "    percentile_25Tot = pointsCoveredTotal.quantile(.25)\n",
    "    maxTot = pointsCoveredTotal.max()\n",
    "    toWrite = \"mean Coverage UAV = \" + str(meanCoverageUAV) +\"std Coverage UAV =\"+str(stdCoverageUAV)+ \" 75 Percentile UAV = \" + str(percentile_75UAV) + \" 25 Percentile UAV= \" + str(percentile_25UAV) + \" maxUAV=\"+str(maxUAV)+\"\\n mean Coverage Tot = \" + str(meanCoverageTot) + \" 75 Percentile Tot = \" + str(percentile_75Tot) + \" 25 Percentile Tot= \" + str(percentile_25Tot) +\" maxTot = \" + str(maxTot)\n",
    "    file = open(path+\"randomTest\"+str(k) + \".odt\",\"w\")\n",
    "    file.write(toWrite)\n",
    "    file.close()\n",
    "\n",
    "    "
   ]
  },
  {
   "cell_type": "markdown",
   "metadata": {},
   "source": [
    "# Test \n",
    "## posizionamento random di 1 stazione in 3 scenari di coverage"
   ]
  },
  {
   "cell_type": "code",
   "execution_count": 4,
   "metadata": {},
   "outputs": [
    {
     "name": "stdout",
     "output_type": "stream",
     "text": [
      "                     geometry pointsCoveredUAV pointsCoveredTotal\n",
      "0  POINT (116.30519 39.92838)                3                  5\n",
      "1  POINT (116.39083 39.95337)                1                  2\n",
      "2  POINT (116.38650 39.93664)                0                  2\n",
      "3  POINT (116.39993 39.97729)                2                  3\n",
      "4  POINT (116.37232 39.91677)                0                  1\n"
     ]
    }
   ],
   "source": [
    "#dfStationsLow = randomTest1(dfLow,dfLowDiscovered,boxLow)\n",
    "#dfStationsNormal = randomTest1(dfNormal,dfNormalDiscovered,boxNormal)\n",
    "dfStationsHigh = randomTest1(dfHigh,dfHighDiscovered,boxHigh)\n",
    "\n",
    "#statistics (dfStationsLow,pathDFLow,1)\n",
    "#statistics(dfStationsNormal,path  DFNormal,1)\n",
    "statistics(dfStationsHigh,pathDFHigh,1)"
   ]
  },
  {
   "cell_type": "markdown",
   "metadata": {},
   "source": [
    "# Test \n",
    "## posizionamento random di 3 stazioni in 3 scenari di coverage"
   ]
  },
  {
   "cell_type": "code",
   "execution_count": 6,
   "metadata": {},
   "outputs": [
    {
     "name": "stdout",
     "output_type": "stream",
     "text": [
      "         lon1       lat1        lon2       lat2        lon3       lat3  \\\n",
      "0  116.092816  40.368927  116.078167  40.383442  116.060356  40.326075   \n",
      "1  116.037462  40.335508  116.073057  40.393121  116.076211  40.310233   \n",
      "2  116.004283  40.355019  116.038178  40.359181  116.061761  40.370049   \n",
      "3  116.087696  40.379555  116.098453  40.357273  116.055449  40.308994   \n",
      "4  116.057912  40.329991  116.066823  40.363288  116.084295  40.368408   \n",
      "\n",
      "  pointsCoveredUAV pointsCoveredTotal  \n",
      "0                3                  3  \n",
      "1                3                  3  \n",
      "2                6                  6  \n",
      "3                3                  3  \n",
      "4                7                  7  \n",
      "         lon1       lat1        lon2       lat2        lon3       lat3  \\\n",
      "0  116.632500  40.345734  116.640726  40.295931  116.671125  40.296378   \n",
      "1  116.668813  40.291339  116.664603  40.295602  116.667503  40.335178   \n",
      "2  116.653420  40.292112  116.610462  40.328481  116.694396  40.340200   \n",
      "3  116.630953  40.315291  116.668053  40.339166  116.636998  40.288911   \n",
      "4  116.601247  40.336812  116.622887  40.287501  116.686849  40.279754   \n",
      "\n",
      "  pointsCoveredUAV pointsCoveredTotal  \n",
      "0                6                  9  \n",
      "1                3                  5  \n",
      "2                4                  5  \n",
      "3                4                  5  \n",
      "4                0                  2  \n",
      "         lon1       lat1        lon2       lat2        lon3       lat3  \\\n",
      "0  116.394709  39.903940  116.302917  39.993199  116.372267  39.977625   \n",
      "1  116.359698  39.972270  116.337199  39.907446  116.319582  39.913885   \n",
      "2  116.336439  39.918504  116.347821  39.933673  116.327658  39.908095   \n",
      "3  116.354456  39.991458  116.363029  39.957613  116.348628  39.937110   \n",
      "4  116.301811  39.919780  116.332119  39.926294  116.345961  39.944172   \n",
      "\n",
      "  pointsCoveredUAV pointsCoveredTotal  \n",
      "0                1                 16  \n",
      "1                1                  2  \n",
      "2                0                  3  \n",
      "3                0                  3  \n",
      "4                1                  5  \n"
     ]
    }
   ],
   "source": [
    "dfStationsLow = randomTest3(dfLow,dfLowDiscovered,boxLow)\n",
    "dfStationsNormal = randomTest3(dfNormal,dfNormalDiscovered,boxNormal)\n",
    "dfStationsHigh = randomTest3(dfHigh,dfHighDiscovered,boxHigh)\n",
    "\n",
    "statistics (dfStationsLow,pathDFLow,3)\n",
    "statistics(dfStationsNormal,pathDFNormal,3)\n",
    "statistics(dfStationsHigh,pathDFHigh,3)"
   ]
  },
  {
   "cell_type": "markdown",
   "metadata": {},
   "source": [
    "# Test\n",
    "## posizionamento random di 3 stazioni + zone non ammesse"
   ]
  },
  {
   "cell_type": "code",
   "execution_count": 9,
   "metadata": {},
   "outputs": [
    {
     "name": "stdout",
     "output_type": "stream",
     "text": [
      "         lon1       lat1        lon2       lat2        lon3       lat3  \\\n",
      "0  116.025164  40.318249  116.096371  40.306841  116.008612  40.306183   \n",
      "1  116.015861  40.399126  116.031366  40.331673  116.003883  40.307731   \n",
      "2  116.076364  40.341505  116.001304  40.362794  116.060855  40.342187   \n",
      "3  116.014565  40.391072  116.086505  40.373373  116.005455  40.332891   \n",
      "4  116.028303  40.318388  116.018779  40.344024  116.094133  40.354977   \n",
      "\n",
      "  pointsCoveredUAV pointsCoveredTotal  \n",
      "0                7                  7  \n",
      "1                8                  8  \n",
      "2                7                  7  \n",
      "3                8                  8  \n",
      "4                5                  5  \n",
      "         lon1       lat1        lon2       lat2        lon3       lat3  \\\n",
      "0  116.625333  40.279002  116.670956  40.311074  116.643759  40.344979   \n",
      "1  116.678640  40.280816  116.655916  40.309669  116.680910  40.261541   \n",
      "2  116.630137  40.344000  116.638256  40.299401  116.654807  40.294787   \n",
      "3  116.646812  40.312099  116.675319  40.286701  116.614384  40.289353   \n",
      "4  116.630730  40.292505  116.645775  40.265923  116.665551  40.311170   \n",
      "\n",
      "  pointsCoveredUAV pointsCoveredTotal  \n",
      "0                5                  8  \n",
      "1                3                  4  \n",
      "2                8                 13  \n",
      "3                6                  8  \n",
      "4                2                  3  \n",
      "         lon1       lat1        lon2       lat2        lon3       lat3  \\\n",
      "0  116.314955  39.905801  116.307445  39.969255  116.338609  39.916026   \n",
      "1  116.359653  39.946645  116.305089  39.957588  116.302098  39.963008   \n",
      "2  116.331165  39.959954  116.334816  39.940334  116.314249  39.914877   \n",
      "3  116.348995  39.947876  116.303777  39.907659  116.364268  39.975413   \n",
      "4  116.367550  39.927448  116.379280  39.904840  116.320265  39.990842   \n",
      "\n",
      "  pointsCoveredUAV pointsCoveredTotal  \n",
      "0                1                  3  \n",
      "1                0                  2  \n",
      "2                0                  3  \n",
      "3                1                  7  \n",
      "4                0                  1  \n"
     ]
    }
   ],
   "source": [
    "dfStationsLow = randomTest3_areeProibite(dfLow,dfLowDiscovered,boxLow)\n",
    "dfStationsNormal = randomTest3_areeProibite(dfNormal,dfNormalDiscovered,boxNormal)\n",
    "dfStationsHigh = randomTest3_areeProibite(dfHigh,dfHighDiscovered,boxHigh)\n",
    "\n",
    "statistics (dfStationsLow,pathDFLow,3.1)\n",
    "statistics(dfStationsNormal,pathDFNormal,3.1)\n",
    "statistics(dfStationsHigh,pathDFHigh,3.1)"
   ]
  },
  {
   "cell_type": "markdown",
   "metadata": {},
   "source": [
    "# 2. DBSCAN Deployment"
   ]
  },
  {
   "cell_type": "code",
   "execution_count": null,
   "metadata": {},
   "outputs": [],
   "source": []
  }
 ],
 "metadata": {
  "kernelspec": {
   "display_name": "Python 3",
   "language": "python",
   "name": "python3"
  },
  "language_info": {
   "codemirror_mode": {
    "name": "ipython",
    "version": 3
   },
   "file_extension": ".py",
   "mimetype": "text/x-python",
   "name": "python",
   "nbconvert_exporter": "python",
   "pygments_lexer": "ipython3",
   "version": "3.9.1"
  }
 },
 "nbformat": 4,
 "nbformat_minor": 4
}
